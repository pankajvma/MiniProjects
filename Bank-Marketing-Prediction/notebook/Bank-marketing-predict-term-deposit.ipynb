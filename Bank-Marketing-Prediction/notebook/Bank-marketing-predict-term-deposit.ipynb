{
 "cells": [
  {
   "cell_type": "markdown",
   "metadata": {},
   "source": [
    "# Bank Marketing - Subscription Prediction"
   ]
  },
  {
   "cell_type": "markdown",
   "metadata": {},
   "source": [
    "### Marketing\n",
    "The action or business of promoting and selling products or services, including market research and advertising.\n",
    "\n",
    "### Term deposit\n",
    "Term Deposits are one of the best investment options for people who are looking for a stable and safe return on their investments. In Term Deposits, the sum of money is kept for a fixed maturity and the depositor is not allowed to withdraw this sum till the end of the maturity period. That is why they are called as Term Deposits because they are kept up to a particular term."
   ]
  },
  {
   "cell_type": "markdown",
   "metadata": {},
   "source": [
    "## Data Set information"
   ]
  },
  {
   "cell_type": "markdown",
   "metadata": {},
   "source": [
    "The data is related with direct marketing campaigns of a Portuguese banking institution. \n",
    "The marketing campaigns were based on phone calls. Often, more than one contact to the same client was required, in order to access if the product (bank term deposit) would be ('yes') or not ('no') subscribed.\n",
    "\n",
    "The dataset bank-additional-full.csv contains all examples (45211) with 17 features, ordered by date (from May 2008 to November 2010), very close to the data analyzed in [Moro et al., 2014]\n",
    "### Attribute information\n",
    "#### Input Variables\n",
    "##### Bank Client Data\n",
    "**age:** (numeric)  \n",
    "**job:** type of job (categorical: 'admin.','blue-collar','entrepreneur','housemaid','management','retired','self-employed','services','student','technician','unemployed','unknown')  \n",
    "**marital:** marital status (categorical: 'divorced','married','single','unknown'; note: 'divorced' means divorced or widowed)  \n",
    "**education:** (categorical: primary, secondary, tertiary and unknown)  \n",
    "**default:** has credit in default? (categorical: 'no','yes')  \n",
    "**balance:** average yearly balance, in euros (numeric)   \n",
    "**housing:** has housing loan? (categorical: 'no','yes')  \n",
    "**loan:** has personal loan? (categorical: 'no','yes')  \n",
    "##### Related with the last contact of the current campaign:\n",
    "**contact:** contact communication type (categorical: 'cellular','telephone')  \n",
    "**day:** last contact day of the month (numeric)  \n",
    "**month:** last contact month of year (categorical: 'jan', 'feb', 'mar', ..., 'nov', 'dec')  \n",
    "**duration:** last contact duration, in seconds (numeric). Important note: this attribute highly affects the output target (e.g., if duration=0 then y='no'). Yet, the duration is not known before a call is performed. Also, after the end of the call y is obviously known.\n",
    "##### Other attributes:\n",
    "**campaign:** number of contacts performed during this campaign and for this client (numeric, includes last contact)  \n",
    "**pdays:** number of days that passed by after the client was last contacted from a previous campaign (numeric; -1 means client was not previously contacted)  \n",
    "**previous:** number of contacts performed before this campaign and for this client (numeric)  \n",
    "**poutcome:** outcome of the previous marketing campaign (categorical: 'failure','nonexistent','success')  \n",
    "\n",
    "#### Output variable (desired target):\n",
    "**y:** has the client subscribed a term deposit? (binary: 'yes','no')\n",
    "\n",
    "**Note:** It is mentioned in the Data Set information that thee are no missing values, but still we will run some test forr the same."
   ]
  },
  {
   "cell_type": "markdown",
   "metadata": {},
   "source": [
    "## Data Exploration\n",
    "### import pandas and numpy for Data Analysis"
   ]
  },
  {
   "cell_type": "code",
   "execution_count": 1,
   "metadata": {},
   "outputs": [
    {
     "name": "stdout",
     "output_type": "stream",
     "text": [
      "Total samples:  45211\n"
     ]
    }
   ],
   "source": [
    "import pandas as pd\n",
    "import numpy as np\n",
    "import matplotlib.pyplot as plt\n",
    "import seaborn as sns\n",
    "import warnings\n",
    "\n",
    "import time\n",
    "\n",
    "from sklearn import preprocessing\n",
    "from sklearn.preprocessing import StandardScaler\n",
    "from sklearn.model_selection import train_test_split\n",
    "from sklearn.linear_model import LogisticRegression\n",
    "from sklearn.discriminant_analysis import LinearDiscriminantAnalysis\n",
    "from sklearn.tree import DecisionTreeClassifier\n",
    "from sklearn.naive_bayes import GaussianNB\n",
    "from sklearn.neighbors import KNeighborsClassifier\n",
    "from sklearn.svm import SVC\n",
    "from sklearn.ensemble import RandomForestClassifier\n",
    "from sklearn.ensemble import AdaBoostClassifier\n",
    "from sklearn.ensemble import GradientBoostingClassifier\n",
    "from sklearn.decomposition import PCA\n",
    "from sklearn import model_selection\n",
    "from sklearn.metrics import classification_report\n",
    "from sklearn.metrics import confusion_matrix\n",
    "from sklearn.metrics import accuracy_score\n",
    "from sklearn.metrics import roc_auc_score\n",
    "\n",
    "from sklearn.metrics import f1_score\n",
    "from sklearn.metrics import precision_score\n",
    "from sklearn.metrics import recall_score\n",
    "\n",
    "warnings.filterwarnings('ignore')\n",
    "%matplotlib inline \n",
    "\n",
    "# df = pd.read_csv('bank/bank.csv')\n",
    "df = pd.read_csv('bank/bank-full.csv')\n",
    "print('Total samples: ', len(df))\n",
    "# df = df.sample(20000)\n",
    "# print('Chosen samples: 20000')"
   ]
  },
  {
   "cell_type": "markdown",
   "metadata": {},
   "source": [
    "### Missing Data"
   ]
  },
  {
   "cell_type": "code",
   "execution_count": 2,
   "metadata": {},
   "outputs": [
    {
     "data": {
      "text/plain": [
       "age          0\n",
       "job          0\n",
       "marital      0\n",
       "education    0\n",
       "default      0\n",
       "balance      0\n",
       "housing      0\n",
       "loan         0\n",
       "contact      0\n",
       "day          0\n",
       "month        0\n",
       "duration     0\n",
       "campaign     0\n",
       "pdays        0\n",
       "previous     0\n",
       "poutcome     0\n",
       "y            0\n",
       "dtype: int64"
      ]
     },
     "execution_count": 2,
     "metadata": {},
     "output_type": "execute_result"
    }
   ],
   "source": [
    "df.isnull().sum()"
   ]
  },
  {
   "cell_type": "markdown",
   "metadata": {},
   "source": [
    "There are no null values."
   ]
  },
  {
   "cell_type": "markdown",
   "metadata": {},
   "source": [
    "### Overview of available data"
   ]
  },
  {
   "cell_type": "code",
   "execution_count": 3,
   "metadata": {
    "scrolled": true
   },
   "outputs": [
    {
     "data": {
      "text/html": [
       "<div>\n",
       "<style scoped>\n",
       "    .dataframe tbody tr th:only-of-type {\n",
       "        vertical-align: middle;\n",
       "    }\n",
       "\n",
       "    .dataframe tbody tr th {\n",
       "        vertical-align: top;\n",
       "    }\n",
       "\n",
       "    .dataframe thead th {\n",
       "        text-align: right;\n",
       "    }\n",
       "</style>\n",
       "<table border=\"1\" class=\"dataframe\">\n",
       "  <thead>\n",
       "    <tr style=\"text-align: right;\">\n",
       "      <th></th>\n",
       "      <th>age</th>\n",
       "      <th>balance</th>\n",
       "      <th>day</th>\n",
       "      <th>duration</th>\n",
       "      <th>campaign</th>\n",
       "      <th>pdays</th>\n",
       "      <th>previous</th>\n",
       "    </tr>\n",
       "  </thead>\n",
       "  <tbody>\n",
       "    <tr>\n",
       "      <th>count</th>\n",
       "      <td>45211.000000</td>\n",
       "      <td>45211.000000</td>\n",
       "      <td>45211.000000</td>\n",
       "      <td>45211.000000</td>\n",
       "      <td>45211.000000</td>\n",
       "      <td>45211.000000</td>\n",
       "      <td>45211.000000</td>\n",
       "    </tr>\n",
       "    <tr>\n",
       "      <th>mean</th>\n",
       "      <td>40.936210</td>\n",
       "      <td>1362.272058</td>\n",
       "      <td>15.806419</td>\n",
       "      <td>258.163080</td>\n",
       "      <td>2.763841</td>\n",
       "      <td>40.197828</td>\n",
       "      <td>0.580323</td>\n",
       "    </tr>\n",
       "    <tr>\n",
       "      <th>std</th>\n",
       "      <td>10.618762</td>\n",
       "      <td>3044.765829</td>\n",
       "      <td>8.322476</td>\n",
       "      <td>257.527812</td>\n",
       "      <td>3.098021</td>\n",
       "      <td>100.128746</td>\n",
       "      <td>2.303441</td>\n",
       "    </tr>\n",
       "    <tr>\n",
       "      <th>min</th>\n",
       "      <td>18.000000</td>\n",
       "      <td>-8019.000000</td>\n",
       "      <td>1.000000</td>\n",
       "      <td>0.000000</td>\n",
       "      <td>1.000000</td>\n",
       "      <td>-1.000000</td>\n",
       "      <td>0.000000</td>\n",
       "    </tr>\n",
       "    <tr>\n",
       "      <th>25%</th>\n",
       "      <td>33.000000</td>\n",
       "      <td>72.000000</td>\n",
       "      <td>8.000000</td>\n",
       "      <td>103.000000</td>\n",
       "      <td>1.000000</td>\n",
       "      <td>-1.000000</td>\n",
       "      <td>0.000000</td>\n",
       "    </tr>\n",
       "    <tr>\n",
       "      <th>50%</th>\n",
       "      <td>39.000000</td>\n",
       "      <td>448.000000</td>\n",
       "      <td>16.000000</td>\n",
       "      <td>180.000000</td>\n",
       "      <td>2.000000</td>\n",
       "      <td>-1.000000</td>\n",
       "      <td>0.000000</td>\n",
       "    </tr>\n",
       "    <tr>\n",
       "      <th>75%</th>\n",
       "      <td>48.000000</td>\n",
       "      <td>1428.000000</td>\n",
       "      <td>21.000000</td>\n",
       "      <td>319.000000</td>\n",
       "      <td>3.000000</td>\n",
       "      <td>-1.000000</td>\n",
       "      <td>0.000000</td>\n",
       "    </tr>\n",
       "    <tr>\n",
       "      <th>max</th>\n",
       "      <td>95.000000</td>\n",
       "      <td>102127.000000</td>\n",
       "      <td>31.000000</td>\n",
       "      <td>4918.000000</td>\n",
       "      <td>63.000000</td>\n",
       "      <td>871.000000</td>\n",
       "      <td>275.000000</td>\n",
       "    </tr>\n",
       "  </tbody>\n",
       "</table>\n",
       "</div>"
      ],
      "text/plain": [
       "                age        balance           day      duration      campaign  \\\n",
       "count  45211.000000   45211.000000  45211.000000  45211.000000  45211.000000   \n",
       "mean      40.936210    1362.272058     15.806419    258.163080      2.763841   \n",
       "std       10.618762    3044.765829      8.322476    257.527812      3.098021   \n",
       "min       18.000000   -8019.000000      1.000000      0.000000      1.000000   \n",
       "25%       33.000000      72.000000      8.000000    103.000000      1.000000   \n",
       "50%       39.000000     448.000000     16.000000    180.000000      2.000000   \n",
       "75%       48.000000    1428.000000     21.000000    319.000000      3.000000   \n",
       "max       95.000000  102127.000000     31.000000   4918.000000     63.000000   \n",
       "\n",
       "              pdays      previous  \n",
       "count  45211.000000  45211.000000  \n",
       "mean      40.197828      0.580323  \n",
       "std      100.128746      2.303441  \n",
       "min       -1.000000      0.000000  \n",
       "25%       -1.000000      0.000000  \n",
       "50%       -1.000000      0.000000  \n",
       "75%       -1.000000      0.000000  \n",
       "max      871.000000    275.000000  "
      ]
     },
     "execution_count": 3,
     "metadata": {},
     "output_type": "execute_result"
    }
   ],
   "source": [
    "df.describe()"
   ]
  },
  {
   "cell_type": "code",
   "execution_count": 4,
   "metadata": {},
   "outputs": [],
   "source": [
    "# Adding a new column by name 'subscribed' to store the value '1' if subscribed, else '0' \n",
    "df['subscribed'] = (df.y == 'yes').astype('int')\n",
    "df.drop('y', axis=1, inplace=True)"
   ]
  },
  {
   "cell_type": "code",
   "execution_count": 5,
   "metadata": {},
   "outputs": [],
   "source": [
    "# sns.pairplot(df, hue='subscribed')"
   ]
  },
  {
   "cell_type": "markdown",
   "metadata": {},
   "source": [
    "#### Quick Observations on Numerical Data\n",
    "- Total available data count is 45211 entries  \n",
    "- Mean Age of the contacted customers is 41 years (Approx)  \n",
    "- Mininmum Age of the contacted customers is 18 years\n",
    "- Maximum Age of the contacted customers is 95 years\n",
    "- Mean of call durationss is 258 seconds  \n",
    "- Mean account balance for the customers 1362 euros  \n",
    "- More than 75% of the the values in the column 'pdays' are set to -1. We know from our attribute informations that -1 means client was not previously contacted\n",
    "- Just similar to the last observation more than 75% of the values inside the columns 'previous' which indicates how many times the customer was contacted before this campaign is 0 i. e. the customer is being contactedd forr the very first time.\n",
    "- The values '-1' and '0' of the columns 'pdays' and 'previous' respectively are actually pointing towards the same fact.\n",
    "- Because of the significant redundency of '0' and '-1' in their respective columns We might drop them later if their fluctuations do not show any relation with the outcome i. e. column 'y'."
   ]
  },
  {
   "cell_type": "code",
   "execution_count": 6,
   "metadata": {
    "scrolled": true
   },
   "outputs": [
    {
     "data": {
      "text/html": [
       "<div>\n",
       "<style scoped>\n",
       "    .dataframe tbody tr th:only-of-type {\n",
       "        vertical-align: middle;\n",
       "    }\n",
       "\n",
       "    .dataframe tbody tr th {\n",
       "        vertical-align: top;\n",
       "    }\n",
       "\n",
       "    .dataframe thead th {\n",
       "        text-align: right;\n",
       "    }\n",
       "</style>\n",
       "<table border=\"1\" class=\"dataframe\">\n",
       "  <thead>\n",
       "    <tr style=\"text-align: right;\">\n",
       "      <th></th>\n",
       "      <th>job</th>\n",
       "      <th>marital</th>\n",
       "      <th>education</th>\n",
       "      <th>default</th>\n",
       "      <th>housing</th>\n",
       "      <th>loan</th>\n",
       "      <th>contact</th>\n",
       "      <th>month</th>\n",
       "      <th>poutcome</th>\n",
       "    </tr>\n",
       "  </thead>\n",
       "  <tbody>\n",
       "    <tr>\n",
       "      <th>count</th>\n",
       "      <td>45211</td>\n",
       "      <td>45211</td>\n",
       "      <td>45211</td>\n",
       "      <td>45211</td>\n",
       "      <td>45211</td>\n",
       "      <td>45211</td>\n",
       "      <td>45211</td>\n",
       "      <td>45211</td>\n",
       "      <td>45211</td>\n",
       "    </tr>\n",
       "    <tr>\n",
       "      <th>unique</th>\n",
       "      <td>12</td>\n",
       "      <td>3</td>\n",
       "      <td>4</td>\n",
       "      <td>2</td>\n",
       "      <td>2</td>\n",
       "      <td>2</td>\n",
       "      <td>3</td>\n",
       "      <td>12</td>\n",
       "      <td>4</td>\n",
       "    </tr>\n",
       "    <tr>\n",
       "      <th>top</th>\n",
       "      <td>blue-collar</td>\n",
       "      <td>married</td>\n",
       "      <td>secondary</td>\n",
       "      <td>no</td>\n",
       "      <td>yes</td>\n",
       "      <td>no</td>\n",
       "      <td>cellular</td>\n",
       "      <td>may</td>\n",
       "      <td>unknown</td>\n",
       "    </tr>\n",
       "    <tr>\n",
       "      <th>freq</th>\n",
       "      <td>9732</td>\n",
       "      <td>27214</td>\n",
       "      <td>23202</td>\n",
       "      <td>44396</td>\n",
       "      <td>25130</td>\n",
       "      <td>37967</td>\n",
       "      <td>29285</td>\n",
       "      <td>13766</td>\n",
       "      <td>36959</td>\n",
       "    </tr>\n",
       "  </tbody>\n",
       "</table>\n",
       "</div>"
      ],
      "text/plain": [
       "                job  marital  education default housing   loan   contact  \\\n",
       "count         45211    45211      45211   45211   45211  45211     45211   \n",
       "unique           12        3          4       2       2      2         3   \n",
       "top     blue-collar  married  secondary      no     yes     no  cellular   \n",
       "freq           9732    27214      23202   44396   25130  37967     29285   \n",
       "\n",
       "        month poutcome  \n",
       "count   45211    45211  \n",
       "unique     12        4  \n",
       "top       may  unknown  \n",
       "freq    13766    36959  "
      ]
     },
     "execution_count": 6,
     "metadata": {},
     "output_type": "execute_result"
    }
   ],
   "source": [
    "df.describe(include='object')"
   ]
  },
  {
   "cell_type": "markdown",
   "metadata": {},
   "source": [
    "#### Quick Observation on Categorical Data\n",
    "- Out of 45211, more than 44000 i. e. 97.3% customers do not have a credit. The number of customers with credit are negligible when compared to it. We might drop this column later."
   ]
  },
  {
   "cell_type": "code",
   "execution_count": 7,
   "metadata": {},
   "outputs": [
    {
     "name": "stdout",
     "output_type": "stream",
     "text": [
      "<class 'pandas.core.frame.DataFrame'>\n",
      "RangeIndex: 45211 entries, 0 to 45210\n",
      "Data columns (total 17 columns):\n",
      " #   Column      Non-Null Count  Dtype \n",
      "---  ------      --------------  ----- \n",
      " 0   age         45211 non-null  int64 \n",
      " 1   job         45211 non-null  object\n",
      " 2   marital     45211 non-null  object\n",
      " 3   education   45211 non-null  object\n",
      " 4   default     45211 non-null  object\n",
      " 5   balance     45211 non-null  int64 \n",
      " 6   housing     45211 non-null  object\n",
      " 7   loan        45211 non-null  object\n",
      " 8   contact     45211 non-null  object\n",
      " 9   day         45211 non-null  int64 \n",
      " 10  month       45211 non-null  object\n",
      " 11  duration    45211 non-null  int64 \n",
      " 12  campaign    45211 non-null  int64 \n",
      " 13  pdays       45211 non-null  int64 \n",
      " 14  previous    45211 non-null  int64 \n",
      " 15  poutcome    45211 non-null  object\n",
      " 16  subscribed  45211 non-null  int32 \n",
      "dtypes: int32(1), int64(7), object(9)\n",
      "memory usage: 5.7+ MB\n"
     ]
    }
   ],
   "source": [
    "df.info()"
   ]
  },
  {
   "cell_type": "code",
   "execution_count": 8,
   "metadata": {},
   "outputs": [
    {
     "data": {
      "text/html": [
       "<div>\n",
       "<style scoped>\n",
       "    .dataframe tbody tr th:only-of-type {\n",
       "        vertical-align: middle;\n",
       "    }\n",
       "\n",
       "    .dataframe tbody tr th {\n",
       "        vertical-align: top;\n",
       "    }\n",
       "\n",
       "    .dataframe thead th {\n",
       "        text-align: right;\n",
       "    }\n",
       "</style>\n",
       "<table border=\"1\" class=\"dataframe\">\n",
       "  <thead>\n",
       "    <tr style=\"text-align: right;\">\n",
       "      <th></th>\n",
       "      <th>age</th>\n",
       "      <th>job</th>\n",
       "      <th>marital</th>\n",
       "      <th>education</th>\n",
       "      <th>default</th>\n",
       "      <th>balance</th>\n",
       "      <th>housing</th>\n",
       "      <th>loan</th>\n",
       "      <th>contact</th>\n",
       "      <th>day</th>\n",
       "      <th>month</th>\n",
       "      <th>duration</th>\n",
       "      <th>campaign</th>\n",
       "      <th>pdays</th>\n",
       "      <th>previous</th>\n",
       "      <th>poutcome</th>\n",
       "      <th>subscribed</th>\n",
       "    </tr>\n",
       "  </thead>\n",
       "  <tbody>\n",
       "    <tr>\n",
       "      <th>0</th>\n",
       "      <td>58</td>\n",
       "      <td>management</td>\n",
       "      <td>married</td>\n",
       "      <td>tertiary</td>\n",
       "      <td>no</td>\n",
       "      <td>2143</td>\n",
       "      <td>yes</td>\n",
       "      <td>no</td>\n",
       "      <td>unknown</td>\n",
       "      <td>5</td>\n",
       "      <td>may</td>\n",
       "      <td>261</td>\n",
       "      <td>1</td>\n",
       "      <td>-1</td>\n",
       "      <td>0</td>\n",
       "      <td>unknown</td>\n",
       "      <td>0</td>\n",
       "    </tr>\n",
       "    <tr>\n",
       "      <th>1</th>\n",
       "      <td>44</td>\n",
       "      <td>technician</td>\n",
       "      <td>single</td>\n",
       "      <td>secondary</td>\n",
       "      <td>no</td>\n",
       "      <td>29</td>\n",
       "      <td>yes</td>\n",
       "      <td>no</td>\n",
       "      <td>unknown</td>\n",
       "      <td>5</td>\n",
       "      <td>may</td>\n",
       "      <td>151</td>\n",
       "      <td>1</td>\n",
       "      <td>-1</td>\n",
       "      <td>0</td>\n",
       "      <td>unknown</td>\n",
       "      <td>0</td>\n",
       "    </tr>\n",
       "    <tr>\n",
       "      <th>2</th>\n",
       "      <td>33</td>\n",
       "      <td>entrepreneur</td>\n",
       "      <td>married</td>\n",
       "      <td>secondary</td>\n",
       "      <td>no</td>\n",
       "      <td>2</td>\n",
       "      <td>yes</td>\n",
       "      <td>yes</td>\n",
       "      <td>unknown</td>\n",
       "      <td>5</td>\n",
       "      <td>may</td>\n",
       "      <td>76</td>\n",
       "      <td>1</td>\n",
       "      <td>-1</td>\n",
       "      <td>0</td>\n",
       "      <td>unknown</td>\n",
       "      <td>0</td>\n",
       "    </tr>\n",
       "    <tr>\n",
       "      <th>3</th>\n",
       "      <td>47</td>\n",
       "      <td>blue-collar</td>\n",
       "      <td>married</td>\n",
       "      <td>unknown</td>\n",
       "      <td>no</td>\n",
       "      <td>1506</td>\n",
       "      <td>yes</td>\n",
       "      <td>no</td>\n",
       "      <td>unknown</td>\n",
       "      <td>5</td>\n",
       "      <td>may</td>\n",
       "      <td>92</td>\n",
       "      <td>1</td>\n",
       "      <td>-1</td>\n",
       "      <td>0</td>\n",
       "      <td>unknown</td>\n",
       "      <td>0</td>\n",
       "    </tr>\n",
       "    <tr>\n",
       "      <th>4</th>\n",
       "      <td>33</td>\n",
       "      <td>unknown</td>\n",
       "      <td>single</td>\n",
       "      <td>unknown</td>\n",
       "      <td>no</td>\n",
       "      <td>1</td>\n",
       "      <td>no</td>\n",
       "      <td>no</td>\n",
       "      <td>unknown</td>\n",
       "      <td>5</td>\n",
       "      <td>may</td>\n",
       "      <td>198</td>\n",
       "      <td>1</td>\n",
       "      <td>-1</td>\n",
       "      <td>0</td>\n",
       "      <td>unknown</td>\n",
       "      <td>0</td>\n",
       "    </tr>\n",
       "    <tr>\n",
       "      <th>5</th>\n",
       "      <td>35</td>\n",
       "      <td>management</td>\n",
       "      <td>married</td>\n",
       "      <td>tertiary</td>\n",
       "      <td>no</td>\n",
       "      <td>231</td>\n",
       "      <td>yes</td>\n",
       "      <td>no</td>\n",
       "      <td>unknown</td>\n",
       "      <td>5</td>\n",
       "      <td>may</td>\n",
       "      <td>139</td>\n",
       "      <td>1</td>\n",
       "      <td>-1</td>\n",
       "      <td>0</td>\n",
       "      <td>unknown</td>\n",
       "      <td>0</td>\n",
       "    </tr>\n",
       "    <tr>\n",
       "      <th>6</th>\n",
       "      <td>28</td>\n",
       "      <td>management</td>\n",
       "      <td>single</td>\n",
       "      <td>tertiary</td>\n",
       "      <td>no</td>\n",
       "      <td>447</td>\n",
       "      <td>yes</td>\n",
       "      <td>yes</td>\n",
       "      <td>unknown</td>\n",
       "      <td>5</td>\n",
       "      <td>may</td>\n",
       "      <td>217</td>\n",
       "      <td>1</td>\n",
       "      <td>-1</td>\n",
       "      <td>0</td>\n",
       "      <td>unknown</td>\n",
       "      <td>0</td>\n",
       "    </tr>\n",
       "    <tr>\n",
       "      <th>7</th>\n",
       "      <td>42</td>\n",
       "      <td>entrepreneur</td>\n",
       "      <td>divorced</td>\n",
       "      <td>tertiary</td>\n",
       "      <td>yes</td>\n",
       "      <td>2</td>\n",
       "      <td>yes</td>\n",
       "      <td>no</td>\n",
       "      <td>unknown</td>\n",
       "      <td>5</td>\n",
       "      <td>may</td>\n",
       "      <td>380</td>\n",
       "      <td>1</td>\n",
       "      <td>-1</td>\n",
       "      <td>0</td>\n",
       "      <td>unknown</td>\n",
       "      <td>0</td>\n",
       "    </tr>\n",
       "    <tr>\n",
       "      <th>8</th>\n",
       "      <td>58</td>\n",
       "      <td>retired</td>\n",
       "      <td>married</td>\n",
       "      <td>primary</td>\n",
       "      <td>no</td>\n",
       "      <td>121</td>\n",
       "      <td>yes</td>\n",
       "      <td>no</td>\n",
       "      <td>unknown</td>\n",
       "      <td>5</td>\n",
       "      <td>may</td>\n",
       "      <td>50</td>\n",
       "      <td>1</td>\n",
       "      <td>-1</td>\n",
       "      <td>0</td>\n",
       "      <td>unknown</td>\n",
       "      <td>0</td>\n",
       "    </tr>\n",
       "    <tr>\n",
       "      <th>9</th>\n",
       "      <td>43</td>\n",
       "      <td>technician</td>\n",
       "      <td>single</td>\n",
       "      <td>secondary</td>\n",
       "      <td>no</td>\n",
       "      <td>593</td>\n",
       "      <td>yes</td>\n",
       "      <td>no</td>\n",
       "      <td>unknown</td>\n",
       "      <td>5</td>\n",
       "      <td>may</td>\n",
       "      <td>55</td>\n",
       "      <td>1</td>\n",
       "      <td>-1</td>\n",
       "      <td>0</td>\n",
       "      <td>unknown</td>\n",
       "      <td>0</td>\n",
       "    </tr>\n",
       "  </tbody>\n",
       "</table>\n",
       "</div>"
      ],
      "text/plain": [
       "   age           job   marital  education default  balance housing loan  \\\n",
       "0   58    management   married   tertiary      no     2143     yes   no   \n",
       "1   44    technician    single  secondary      no       29     yes   no   \n",
       "2   33  entrepreneur   married  secondary      no        2     yes  yes   \n",
       "3   47   blue-collar   married    unknown      no     1506     yes   no   \n",
       "4   33       unknown    single    unknown      no        1      no   no   \n",
       "5   35    management   married   tertiary      no      231     yes   no   \n",
       "6   28    management    single   tertiary      no      447     yes  yes   \n",
       "7   42  entrepreneur  divorced   tertiary     yes        2     yes   no   \n",
       "8   58       retired   married    primary      no      121     yes   no   \n",
       "9   43    technician    single  secondary      no      593     yes   no   \n",
       "\n",
       "   contact  day month  duration  campaign  pdays  previous poutcome  \\\n",
       "0  unknown    5   may       261         1     -1         0  unknown   \n",
       "1  unknown    5   may       151         1     -1         0  unknown   \n",
       "2  unknown    5   may        76         1     -1         0  unknown   \n",
       "3  unknown    5   may        92         1     -1         0  unknown   \n",
       "4  unknown    5   may       198         1     -1         0  unknown   \n",
       "5  unknown    5   may       139         1     -1         0  unknown   \n",
       "6  unknown    5   may       217         1     -1         0  unknown   \n",
       "7  unknown    5   may       380         1     -1         0  unknown   \n",
       "8  unknown    5   may        50         1     -1         0  unknown   \n",
       "9  unknown    5   may        55         1     -1         0  unknown   \n",
       "\n",
       "   subscribed  \n",
       "0           0  \n",
       "1           0  \n",
       "2           0  \n",
       "3           0  \n",
       "4           0  \n",
       "5           0  \n",
       "6           0  \n",
       "7           0  \n",
       "8           0  \n",
       "9           0  "
      ]
     },
     "execution_count": 8,
     "metadata": {},
     "output_type": "execute_result"
    }
   ],
   "source": [
    "df.head(10)"
   ]
  },
  {
   "cell_type": "code",
   "execution_count": 9,
   "metadata": {},
   "outputs": [
    {
     "data": {
      "text/plain": [
       "(45211, 17)"
      ]
     },
     "execution_count": 9,
     "metadata": {},
     "output_type": "execute_result"
    }
   ],
   "source": [
    "df.shape"
   ]
  },
  {
   "cell_type": "code",
   "execution_count": 10,
   "metadata": {
    "scrolled": true
   },
   "outputs": [
    {
     "data": {
      "text/plain": [
       "subscribed\n",
       "0    39922\n",
       "1     5289\n",
       "dtype: int64"
      ]
     },
     "execution_count": 10,
     "metadata": {},
     "output_type": "execute_result"
    }
   ],
   "source": [
    "df.groupby('subscribed').size()"
   ]
  },
  {
   "cell_type": "code",
   "execution_count": 11,
   "metadata": {},
   "outputs": [
    {
     "data": {
      "text/plain": [
       "<AxesSubplot:xlabel='subscribed', ylabel='count'>"
      ]
     },
     "execution_count": 11,
     "metadata": {},
     "output_type": "execute_result"
    },
    {
     "data": {
      "image/png": "[encoded data removed]",
      "text/plain": [
       "<Figure size 432x288 with 1 Axes>"
      ]
     },
     "metadata": {
      "needs_background": "light"
     },
     "output_type": "display_data"
    }
   ],
   "source": [
    "sns.countplot(x=df['subscribed'], data=df)"
   ]
  },
  {
   "cell_type": "markdown",
   "metadata": {},
   "source": [
    "**Quick Observation** \n",
    "- 5289 Out of 45211 contacted customers subscribed"
   ]
  },
  {
   "cell_type": "code",
   "execution_count": 12,
   "metadata": {},
   "outputs": [
    {
     "data": {
      "text/plain": [
       "Index(['age', 'job', 'marital', 'education', 'default', 'balance', 'housing',\n",
       "       'loan', 'contact', 'day', 'month', 'duration', 'campaign', 'pdays',\n",
       "       'previous', 'poutcome', 'subscribed'],\n",
       "      dtype='object')"
      ]
     },
     "execution_count": 12,
     "metadata": {},
     "output_type": "execute_result"
    }
   ],
   "source": [
    "df.keys()"
   ]
  },
  {
   "cell_type": "code",
   "execution_count": 13,
   "metadata": {},
   "outputs": [
    {
     "name": "stdout",
     "output_type": "stream",
     "text": [
      "The positive prevalnce is: 0.117\n"
     ]
    }
   ],
   "source": [
    "# By calculating the prevalance we are checking that out of total customers how many customer have actually suscribed \n",
    "def calculate_prevalance(subscribed):\n",
    "    total_customers = len(df)\n",
    "    positive_prevalance = sum(subscribed)/total_customers\n",
    "    positive_prevalance = round(positive_prevalance, 3)\n",
    "    print(f\"The positive prevalnce is: {positive_prevalance}\")\n",
    "    \n",
    "calculate_prevalance(df['subscribed'].values)"
   ]
  },
  {
   "cell_type": "markdown",
   "metadata": {},
   "source": [
    "### Exploring unique values\n",
    "- Checking if there are any unnecessary columns\n",
    "- Finding categorical varieties"
   ]
  },
  {
   "cell_type": "code",
   "execution_count": 14,
   "metadata": {},
   "outputs": [
    {
     "data": {
      "text/html": [
       "<div>\n",
       "<style scoped>\n",
       "    .dataframe tbody tr th:only-of-type {\n",
       "        vertical-align: middle;\n",
       "    }\n",
       "\n",
       "    .dataframe tbody tr th {\n",
       "        vertical-align: top;\n",
       "    }\n",
       "\n",
       "    .dataframe thead th {\n",
       "        text-align: right;\n",
       "    }\n",
       "</style>\n",
       "<table border=\"1\" class=\"dataframe\">\n",
       "  <thead>\n",
       "    <tr style=\"text-align: right;\">\n",
       "      <th></th>\n",
       "      <th>age</th>\n",
       "      <th>job</th>\n",
       "      <th>marital</th>\n",
       "      <th>education</th>\n",
       "      <th>default</th>\n",
       "      <th>balance</th>\n",
       "      <th>housing</th>\n",
       "      <th>loan</th>\n",
       "      <th>contact</th>\n",
       "      <th>day</th>\n",
       "    </tr>\n",
       "  </thead>\n",
       "  <tbody>\n",
       "    <tr>\n",
       "      <th>0</th>\n",
       "      <td>58</td>\n",
       "      <td>management</td>\n",
       "      <td>married</td>\n",
       "      <td>tertiary</td>\n",
       "      <td>no</td>\n",
       "      <td>2143</td>\n",
       "      <td>yes</td>\n",
       "      <td>no</td>\n",
       "      <td>unknown</td>\n",
       "      <td>5</td>\n",
       "    </tr>\n",
       "    <tr>\n",
       "      <th>1</th>\n",
       "      <td>44</td>\n",
       "      <td>technician</td>\n",
       "      <td>single</td>\n",
       "      <td>secondary</td>\n",
       "      <td>no</td>\n",
       "      <td>29</td>\n",
       "      <td>yes</td>\n",
       "      <td>no</td>\n",
       "      <td>unknown</td>\n",
       "      <td>5</td>\n",
       "    </tr>\n",
       "    <tr>\n",
       "      <th>2</th>\n",
       "      <td>33</td>\n",
       "      <td>entrepreneur</td>\n",
       "      <td>married</td>\n",
       "      <td>secondary</td>\n",
       "      <td>no</td>\n",
       "      <td>2</td>\n",
       "      <td>yes</td>\n",
       "      <td>yes</td>\n",
       "      <td>unknown</td>\n",
       "      <td>5</td>\n",
       "    </tr>\n",
       "    <tr>\n",
       "      <th>3</th>\n",
       "      <td>47</td>\n",
       "      <td>blue-collar</td>\n",
       "      <td>married</td>\n",
       "      <td>unknown</td>\n",
       "      <td>no</td>\n",
       "      <td>1506</td>\n",
       "      <td>yes</td>\n",
       "      <td>no</td>\n",
       "      <td>unknown</td>\n",
       "      <td>5</td>\n",
       "    </tr>\n",
       "    <tr>\n",
       "      <th>4</th>\n",
       "      <td>33</td>\n",
       "      <td>unknown</td>\n",
       "      <td>single</td>\n",
       "      <td>unknown</td>\n",
       "      <td>no</td>\n",
       "      <td>1</td>\n",
       "      <td>no</td>\n",
       "      <td>no</td>\n",
       "      <td>unknown</td>\n",
       "      <td>5</td>\n",
       "    </tr>\n",
       "  </tbody>\n",
       "</table>\n",
       "</div>"
      ],
      "text/plain": [
       "   age           job  marital  education default  balance housing loan  \\\n",
       "0   58    management  married   tertiary      no     2143     yes   no   \n",
       "1   44    technician   single  secondary      no       29     yes   no   \n",
       "2   33  entrepreneur  married  secondary      no        2     yes  yes   \n",
       "3   47   blue-collar  married    unknown      no     1506     yes   no   \n",
       "4   33       unknown   single    unknown      no        1      no   no   \n",
       "\n",
       "   contact  day  \n",
       "0  unknown    5  \n",
       "1  unknown    5  \n",
       "2  unknown    5  \n",
       "3  unknown    5  \n",
       "4  unknown    5  "
      ]
     },
     "execution_count": 14,
     "metadata": {},
     "output_type": "execute_result"
    }
   ],
   "source": [
    "df[list(df.columns)[:10]].head()"
   ]
  },
  {
   "cell_type": "code",
   "execution_count": 15,
   "metadata": {},
   "outputs": [
    {
     "data": {
      "text/html": [
       "<div>\n",
       "<style scoped>\n",
       "    .dataframe tbody tr th:only-of-type {\n",
       "        vertical-align: middle;\n",
       "    }\n",
       "\n",
       "    .dataframe tbody tr th {\n",
       "        vertical-align: top;\n",
       "    }\n",
       "\n",
       "    .dataframe thead th {\n",
       "        text-align: right;\n",
       "    }\n",
       "</style>\n",
       "<table border=\"1\" class=\"dataframe\">\n",
       "  <thead>\n",
       "    <tr style=\"text-align: right;\">\n",
       "      <th></th>\n",
       "      <th>month</th>\n",
       "      <th>duration</th>\n",
       "      <th>campaign</th>\n",
       "      <th>pdays</th>\n",
       "      <th>previous</th>\n",
       "      <th>poutcome</th>\n",
       "      <th>subscribed</th>\n",
       "    </tr>\n",
       "  </thead>\n",
       "  <tbody>\n",
       "    <tr>\n",
       "      <th>0</th>\n",
       "      <td>may</td>\n",
       "      <td>261</td>\n",
       "      <td>1</td>\n",
       "      <td>-1</td>\n",
       "      <td>0</td>\n",
       "      <td>unknown</td>\n",
       "      <td>0</td>\n",
       "    </tr>\n",
       "    <tr>\n",
       "      <th>1</th>\n",
       "      <td>may</td>\n",
       "      <td>151</td>\n",
       "      <td>1</td>\n",
       "      <td>-1</td>\n",
       "      <td>0</td>\n",
       "      <td>unknown</td>\n",
       "      <td>0</td>\n",
       "    </tr>\n",
       "    <tr>\n",
       "      <th>2</th>\n",
       "      <td>may</td>\n",
       "      <td>76</td>\n",
       "      <td>1</td>\n",
       "      <td>-1</td>\n",
       "      <td>0</td>\n",
       "      <td>unknown</td>\n",
       "      <td>0</td>\n",
       "    </tr>\n",
       "    <tr>\n",
       "      <th>3</th>\n",
       "      <td>may</td>\n",
       "      <td>92</td>\n",
       "      <td>1</td>\n",
       "      <td>-1</td>\n",
       "      <td>0</td>\n",
       "      <td>unknown</td>\n",
       "      <td>0</td>\n",
       "    </tr>\n",
       "    <tr>\n",
       "      <th>4</th>\n",
       "      <td>may</td>\n",
       "      <td>198</td>\n",
       "      <td>1</td>\n",
       "      <td>-1</td>\n",
       "      <td>0</td>\n",
       "      <td>unknown</td>\n",
       "      <td>0</td>\n",
       "    </tr>\n",
       "  </tbody>\n",
       "</table>\n",
       "</div>"
      ],
      "text/plain": [
       "  month  duration  campaign  pdays  previous poutcome  subscribed\n",
       "0   may       261         1     -1         0  unknown           0\n",
       "1   may       151         1     -1         0  unknown           0\n",
       "2   may        76         1     -1         0  unknown           0\n",
       "3   may        92         1     -1         0  unknown           0\n",
       "4   may       198         1     -1         0  unknown           0"
      ]
     },
     "execution_count": 15,
     "metadata": {},
     "output_type": "execute_result"
    }
   ],
   "source": [
    "df[list(df.columns)[10:]].head()"
   ]
  },
  {
   "cell_type": "code",
   "execution_count": 16,
   "metadata": {},
   "outputs": [
    {
     "data": {
      "text/plain": [
       "(45211, 17)"
      ]
     },
     "execution_count": 16,
     "metadata": {},
     "output_type": "execute_result"
    }
   ],
   "source": [
    "df.shape"
   ]
  },
  {
   "cell_type": "code",
   "execution_count": 17,
   "metadata": {},
   "outputs": [
    {
     "name": "stdout",
     "output_type": "stream",
     "text": [
      "age : 77 unique values\n",
      "job : 12 unique values\n",
      "marital : 3 unique values\n",
      "education : 4 unique values\n",
      "default : 2 unique values\n",
      "balance : 7168 unique values\n",
      "housing : 2 unique values\n",
      "loan : 2 unique values\n",
      "contact : 3 unique values\n",
      "day : 31 unique values\n",
      "month : 12 unique values\n",
      "duration : 1573 unique values\n",
      "campaign : 48 unique values\n",
      "pdays : 559 unique values\n",
      "previous : 41 unique values\n",
      "poutcome : 4 unique values\n",
      "subscribed : 2 unique values\n"
     ]
    }
   ],
   "source": [
    "# check unique values for every column\n",
    "for feature in df.columns:\n",
    "    print(f'{feature} : {df[feature].nunique()} unique values')"
   ]
  },
  {
   "cell_type": "code",
   "execution_count": 18,
   "metadata": {
    "scrolled": false
   },
   "outputs": [
    {
     "name": "stdout",
     "output_type": "stream",
     "text": [
      "job : 12\n",
      "['management' 'technician' 'entrepreneur' 'blue-collar' 'unknown'\n",
      " 'retired' 'admin.' 'services' 'self-employed' 'unemployed' 'housemaid'\n",
      " 'student']\n",
      "marital : 3\n",
      "['married' 'single' 'divorced']\n",
      "education : 4\n",
      "['tertiary' 'secondary' 'unknown' 'primary']\n",
      "default : 2\n",
      "['no' 'yes']\n",
      "housing : 2\n",
      "['yes' 'no']\n",
      "loan : 2\n",
      "['no' 'yes']\n",
      "contact : 3\n",
      "['unknown' 'cellular' 'telephone']\n",
      "month : 12\n",
      "['may' 'jun' 'jul' 'aug' 'oct' 'nov' 'dec' 'jan' 'feb' 'mar' 'apr' 'sep']\n",
      "poutcome : 4\n",
      "['unknown' 'failure' 'other' 'success']\n",
      "subscribed : 2\n",
      "[0 1]\n"
     ]
    }
   ],
   "source": [
    "# for every column\n",
    "for feature in df.columns:\n",
    "    number_of_unique_values = df[feature].nunique()\n",
    "    if number_of_unique_values < 30:\n",
    "        print(f'{feature} : {number_of_unique_values}\\n{df[feature].unique()}')"
   ]
  },
  {
   "cell_type": "markdown",
   "metadata": {},
   "source": [
    "### Numerical Features"
   ]
  },
  {
   "cell_type": "code",
   "execution_count": 19,
   "metadata": {},
   "outputs": [
    {
     "data": {
      "text/plain": [
       "['age', 'balance', 'day', 'duration', 'campaign', 'pdays', 'previous']"
      ]
     },
     "execution_count": 19,
     "metadata": {},
     "output_type": "execute_result"
    }
   ],
   "source": [
    "numerical_data = [data for data in df.dtypes[df.dtypes == 'int64'].index]\n",
    "numerical_data"
   ]
  },
  {
   "cell_type": "code",
   "execution_count": 20,
   "metadata": {},
   "outputs": [
    {
     "data": {
      "text/plain": [
       "age         0\n",
       "balance     0\n",
       "day         0\n",
       "duration    0\n",
       "campaign    0\n",
       "pdays       0\n",
       "previous    0\n",
       "dtype: int64"
      ]
     },
     "execution_count": 20,
     "metadata": {},
     "output_type": "execute_result"
    }
   ],
   "source": [
    "df[numerical_data].isnull().sum()"
   ]
  },
  {
   "cell_type": "code",
   "execution_count": 21,
   "metadata": {},
   "outputs": [
    {
     "data": {
      "text/html": [
       "<div>\n",
       "<style scoped>\n",
       "    .dataframe tbody tr th:only-of-type {\n",
       "        vertical-align: middle;\n",
       "    }\n",
       "\n",
       "    .dataframe tbody tr th {\n",
       "        vertical-align: top;\n",
       "    }\n",
       "\n",
       "    .dataframe thead th {\n",
       "        text-align: right;\n",
       "    }\n",
       "</style>\n",
       "<table border=\"1\" class=\"dataframe\">\n",
       "  <thead>\n",
       "    <tr style=\"text-align: right;\">\n",
       "      <th></th>\n",
       "      <th>age</th>\n",
       "      <th>balance</th>\n",
       "      <th>day</th>\n",
       "      <th>duration</th>\n",
       "      <th>campaign</th>\n",
       "      <th>pdays</th>\n",
       "      <th>previous</th>\n",
       "    </tr>\n",
       "  </thead>\n",
       "  <tbody>\n",
       "    <tr>\n",
       "      <th>0</th>\n",
       "      <td>58</td>\n",
       "      <td>2143</td>\n",
       "      <td>5</td>\n",
       "      <td>261</td>\n",
       "      <td>1</td>\n",
       "      <td>-1</td>\n",
       "      <td>0</td>\n",
       "    </tr>\n",
       "    <tr>\n",
       "      <th>1</th>\n",
       "      <td>44</td>\n",
       "      <td>29</td>\n",
       "      <td>5</td>\n",
       "      <td>151</td>\n",
       "      <td>1</td>\n",
       "      <td>-1</td>\n",
       "      <td>0</td>\n",
       "    </tr>\n",
       "    <tr>\n",
       "      <th>2</th>\n",
       "      <td>33</td>\n",
       "      <td>2</td>\n",
       "      <td>5</td>\n",
       "      <td>76</td>\n",
       "      <td>1</td>\n",
       "      <td>-1</td>\n",
       "      <td>0</td>\n",
       "    </tr>\n",
       "    <tr>\n",
       "      <th>3</th>\n",
       "      <td>47</td>\n",
       "      <td>1506</td>\n",
       "      <td>5</td>\n",
       "      <td>92</td>\n",
       "      <td>1</td>\n",
       "      <td>-1</td>\n",
       "      <td>0</td>\n",
       "    </tr>\n",
       "    <tr>\n",
       "      <th>4</th>\n",
       "      <td>33</td>\n",
       "      <td>1</td>\n",
       "      <td>5</td>\n",
       "      <td>198</td>\n",
       "      <td>1</td>\n",
       "      <td>-1</td>\n",
       "      <td>0</td>\n",
       "    </tr>\n",
       "  </tbody>\n",
       "</table>\n",
       "</div>"
      ],
      "text/plain": [
       "   age  balance  day  duration  campaign  pdays  previous\n",
       "0   58     2143    5       261         1     -1         0\n",
       "1   44       29    5       151         1     -1         0\n",
       "2   33        2    5        76         1     -1         0\n",
       "3   47     1506    5        92         1     -1         0\n",
       "4   33        1    5       198         1     -1         0"
      ]
     },
     "execution_count": 21,
     "metadata": {},
     "output_type": "execute_result"
    }
   ],
   "source": [
    "df[numerical_data].head()"
   ]
  },
  {
   "cell_type": "code",
   "execution_count": 22,
   "metadata": {
    "scrolled": false
   },
   "outputs": [
    {
     "data": {
      "image/png": "[encoded data removed]",
      "text/plain": [
       "<Figure size 864x288 with 2 Axes>"
      ]
     },
     "metadata": {
      "needs_background": "light"
     },
     "output_type": "display_data"
    },
    {
     "data": {
      "image/png": "[encoded data removed]",
      "text/plain": [
       "<Figure size 864x288 with 2 Axes>"
      ]
     },
     "metadata": {
      "needs_background": "light"
     },
     "output_type": "display_data"
    },
    {
     "data": {
      "image/png": "[encoded data removed]",
      "text/plain": [
       "<Figure size 864x288 with 2 Axes>"
      ]
     },
     "metadata": {
      "needs_background": "light"
     },
     "output_type": "display_data"
    },
    {
     "data": {
      "image/png": "[encoded data removed]",
      "text/plain": [
       "<Figure size 864x288 with 2 Axes>"
      ]
     },
     "metadata": {
      "needs_background": "light"
     },
     "output_type": "display_data"
    },
    {
     "data": {
      "image/png": "[encoded data removed]",
      "text/plain": [
       "<Figure size 864x288 with 2 Axes>"
      ]
     },
     "metadata": {
      "needs_background": "light"
     },
     "output_type": "display_data"
    },
    {
     "data": {
      "image/png": "[encoded data removed]",
      "text/plain": [
       "<Figure size 864x288 with 2 Axes>"
      ]
     },
     "metadata": {
      "needs_background": "light"
     },
     "output_type": "display_data"
    },
    {
     "data": {
      "image/png": "[encoded data removed]",
      "text/plain": [
       "<Figure size 864x288 with 2 Axes>"
      ]
     },
     "metadata": {
      "needs_background": "light"
     },
     "output_type": "display_data"
    }
   ],
   "source": [
    "#creating distribution and box plots\n",
    "for col in numerical_data : \n",
    "    plt.figure(figsize=(12,4))\n",
    "    \n",
    "    plt.subplot(1,2,1)\n",
    "    sns.distplot(df[col])\n",
    "    plt.xlabel(col)\n",
    "    plt.ylabel('Density')\n",
    "    \n",
    "    plt.subplot(1,2,2)\n",
    "    sns.boxplot(x='subscribed', y = col, data =df, showmeans = True)\n",
    "    plt.xlabel('Subscribed')\n",
    "    plt.ylabel(col)\n",
    "    \n",
    "    plt.show()"
   ]
  },
  {
   "cell_type": "markdown",
   "metadata": {},
   "source": [
    "**Observation:** \n",
    "- From the Density and boxplot shown above we can say that the customerrs with longer call durations are more likely to subscribe for the term deposit\n",
    "- Most of the customers who actually subscribed were contacted for the very first time\n",
    "- Except for the column of age and days, all the other numerical features seems to be left skewed."
   ]
  },
  {
   "cell_type": "code",
   "execution_count": 23,
   "metadata": {
    "scrolled": false
   },
   "outputs": [
    {
     "data": {
      "image/png": "[encoded data removed]",
      "text/plain": [
       "<Figure size 1440x720 with 1 Axes>"
      ]
     },
     "metadata": {
      "needs_background": "light"
     },
     "output_type": "display_data"
    },
    {
     "data": {
      "image/png": "[encoded data removed]",
      "text/plain": [
       "<Figure size 1440x720 with 1 Axes>"
      ]
     },
     "metadata": {
      "needs_background": "light"
     },
     "output_type": "display_data"
    },
    {
     "data": {
      "image/png": "[encoded data removed]",
      "text/plain": [
       "<Figure size 1440x720 with 1 Axes>"
      ]
     },
     "metadata": {
      "needs_background": "light"
     },
     "output_type": "display_data"
    },
    {
     "data": {
      "image/png": "[encoded data removed]",
      "text/plain": [
       "<Figure size 1440x720 with 1 Axes>"
      ]
     },
     "metadata": {
      "needs_background": "light"
     },
     "output_type": "display_data"
    }
   ],
   "source": [
    "plt.rcParams.update({'font.size': 11})\n",
    "for col in numerical_data : \n",
    "    if col not in ['balance', 'duration', 'pdays']:\n",
    "        plt.figure(figsize=(20,10))\n",
    "        plt.subplot().patch.set_visible(False)\n",
    "        sns.countplot(x = df[col], data = df)\n",
    "        plt.xlabel(col.title())\n",
    "        plt.ylabel('Count')\n",
    "\n",
    "        plt.show()"
   ]
  },
  {
   "cell_type": "markdown",
   "metadata": {},
   "source": [
    "Balance, duration, pdays can be stored in bins"
   ]
  },
  {
   "cell_type": "code",
   "execution_count": 24,
   "metadata": {},
   "outputs": [
    {
     "data": {
      "image/png": "[encoded data removed]",
      "text/plain": [
       "<Figure size 1440x360 with 2 Axes>"
      ]
     },
     "metadata": {
      "needs_background": "light"
     },
     "output_type": "display_data"
    },
    {
     "data": {
      "image/png": "[encoded data removed]",
      "text/plain": [
       "<Figure size 432x288 with 1 Axes>"
      ]
     },
     "metadata": {
      "needs_background": "light"
     },
     "output_type": "display_data"
    }
   ],
   "source": [
    "plt.subplots(figsize=(20,5)) \n",
    "plt.rcParams.update({'font.size': 12})\n",
    "    \n",
    "plt.subplot(1, 2, 1)\n",
    "sns.histplot(x = df['balance'], data = df)\n",
    "plt.ylabel('Count')\n",
    "\n",
    "plt.subplot(1, 2, 2)\n",
    "sns.histplot(x = df['duration'], data = df)\n",
    "plt.ylabel('Count')\n",
    "plt.show()\n",
    "\n",
    "plt.subplot()\n",
    "sns.histplot(x = df['pdays'], data = df)\n",
    "plt.ylabel('Count')\n",
    "\n",
    "plt.show()"
   ]
  },
  {
   "cell_type": "markdown",
   "metadata": {},
   "source": [
    "**Observations**\n",
    "- The maximum targeted age group is 30 to 37 Years old with more than 2000 people of age 32\n",
    "- More than 2500 people were contacted on 20th day of the month\n",
    "- more than 17500 customers were contacted only once during the campaign"
   ]
  },
  {
   "cell_type": "markdown",
   "metadata": {},
   "source": [
    "## Categorical Features\n",
    "\n",
    "Categorical variables are non-numeric data such as job and education. To turn these non-numerical data into variables, the simplest thing is to use a technique called one-hot encoding, which will be explained below."
   ]
  },
  {
   "cell_type": "code",
   "execution_count": 25,
   "metadata": {},
   "outputs": [
    {
     "data": {
      "text/plain": [
       "['job',\n",
       " 'marital',\n",
       " 'education',\n",
       " 'default',\n",
       " 'housing',\n",
       " 'loan',\n",
       " 'contact',\n",
       " 'month',\n",
       " 'poutcome']"
      ]
     },
     "execution_count": 25,
     "metadata": {},
     "output_type": "execute_result"
    }
   ],
   "source": [
    "object_data = [data for data in df.dtypes[df.dtypes == 'object'].index]\n",
    "object_data"
   ]
  },
  {
   "cell_type": "markdown",
   "metadata": {},
   "source": [
    "### Graphical Representation of Categorical Features"
   ]
  },
  {
   "cell_type": "code",
   "execution_count": 26,
   "metadata": {},
   "outputs": [
    {
     "data": {
      "image/png": "[encoded data removed]",
      "text/plain": [
       "<Figure size 1152x288 with 1 Axes>"
      ]
     },
     "metadata": {
      "needs_background": "light"
     },
     "output_type": "display_data"
    },
    {
     "data": {
      "image/png": "[encoded data removed]",
      "text/plain": [
       "<Figure size 1152x288 with 2 Axes>"
      ]
     },
     "metadata": {
      "needs_background": "light"
     },
     "output_type": "display_data"
    },
    {
     "data": {
      "image/png": "[encoded data removed]",
      "text/plain": [
       "<Figure size 1152x288 with 2 Axes>"
      ]
     },
     "metadata": {
      "needs_background": "light"
     },
     "output_type": "display_data"
    },
    {
     "data": {
      "image/png": "[encoded data removed]",
      "text/plain": [
       "<Figure size 1152x288 with 2 Axes>"
      ]
     },
     "metadata": {
      "needs_background": "light"
     },
     "output_type": "display_data"
    },
    {
     "data": {
      "image/png": "[encoded data removed]",
      "text/plain": [
       "<Figure size 1152x288 with 2 Axes>"
      ]
     },
     "metadata": {
      "needs_background": "light"
     },
     "output_type": "display_data"
    }
   ],
   "source": [
    "plt.rcParams.update({'font.size': 11})\n",
    "\n",
    "plt.figure(figsize=(16,4))\n",
    "plt.subplot().patch.set_visible(False)\n",
    "sns.countplot(x = df['job'], data = df)\n",
    "plt.xlabel('Job')\n",
    "plt.ylabel('Count')\n",
    "\n",
    "plt.rcParams.update({'font.size': 16})\n",
    "\n",
    "for col in range(1, len(object_data) - 1, 2): \n",
    "    plt.figure(figsize=(16,4))\n",
    "    col_index = col\n",
    "    column_name = object_data[col_index]\n",
    "    col_index += 1\n",
    "    plt.subplot(1, 2, 1).patch.set_visible(False)\n",
    "    sns.countplot(x = df[column_name], data = df)\n",
    "    plt.xlabel(column_name.title())\n",
    "    plt.ylabel('Count')\n",
    "                 \n",
    "    plt.subplot(1, 2, 2)\n",
    "    column_name = object_data[col_index]\n",
    "    sns.countplot(x = df[column_name], data = df)\n",
    "    plt.xlabel(column_name.title())\n",
    "    plt.ylabel('Count')\n",
    "    \n",
    "    plt.show()"
   ]
  },
  {
   "cell_type": "code",
   "execution_count": 27,
   "metadata": {},
   "outputs": [
    {
     "name": "stdout",
     "output_type": "stream",
     "text": [
      "job\n",
      "admin.           5171\n",
      "blue-collar      9732\n",
      "entrepreneur     1487\n",
      "housemaid        1240\n",
      "management       9458\n",
      "retired          2264\n",
      "self-employed    1579\n",
      "services         4154\n",
      "student           938\n",
      "technician       7597\n",
      "unemployed       1303\n",
      "unknown           288\n",
      "dtype: int64\n",
      "\n",
      "marital\n",
      "divorced     5207\n",
      "married     27214\n",
      "single      12790\n",
      "dtype: int64\n",
      "\n",
      "education\n",
      "primary       6851\n",
      "secondary    23202\n",
      "tertiary     13301\n",
      "unknown       1857\n",
      "dtype: int64\n",
      "\n",
      "default\n",
      "no     44396\n",
      "yes      815\n",
      "dtype: int64\n",
      "\n",
      "housing\n",
      "no     20081\n",
      "yes    25130\n",
      "dtype: int64\n",
      "\n",
      "loan\n",
      "no     37967\n",
      "yes     7244\n",
      "dtype: int64\n",
      "\n",
      "contact\n",
      "cellular     29285\n",
      "telephone     2906\n",
      "unknown      13020\n",
      "dtype: int64\n",
      "\n",
      "month\n",
      "apr     2932\n",
      "aug     6247\n",
      "dec      214\n",
      "feb     2649\n",
      "jan     1403\n",
      "jul     6895\n",
      "jun     5341\n",
      "mar      477\n",
      "may    13766\n",
      "nov     3970\n",
      "oct      738\n",
      "sep      579\n",
      "dtype: int64\n",
      "\n",
      "poutcome\n",
      "failure     4901\n",
      "other       1840\n",
      "success     1511\n",
      "unknown    36959\n",
      "dtype: int64\n",
      "\n"
     ]
    }
   ],
   "source": [
    "# frequency of particular value in a columns where \n",
    "for column in object_data:\n",
    "    print(f'{df.groupby(column).size()}\\n')"
   ]
  },
  {
   "cell_type": "markdown",
   "metadata": {},
   "source": [
    "**Observations**\n",
    "- We can see the most of the targeted customers are either in management or are blue-coller (9000+ each)\n",
    "- More than 25000 of the customers are married\n",
    "- 20000+ customers have received secondary education\n",
    "- 40000+ customers do not have any credit\n",
    "- Around 25000+ have taken a housing loan\n",
    "- 35000+ People do not have any kind of personal loan\n",
    "- Around 30000+ people were contacted over cellular phones\n",
    "- Most of the customers were contacted in the month of May\n",
    "- Most of the people are being contacted for the very first time hence most of the values in the column poutcomee are unknown\n",
    "- 5289 Out of 45211 contacted customers subscribed"
   ]
  },
  {
   "cell_type": "markdown",
   "metadata": {},
   "source": [
    "**Let's see what value of each category have seen most of the subscriptions.**"
   ]
  },
  {
   "cell_type": "code",
   "execution_count": 28,
   "metadata": {
    "scrolled": false
   },
   "outputs": [
    {
     "data": {
      "image/png": "[encoded data removed]",
      "text/plain": [
       "<Figure size 1152x288 with 1 Axes>"
      ]
     },
     "metadata": {
      "needs_background": "light"
     },
     "output_type": "display_data"
    },
    {
     "data": {
      "image/png": "[encoded data removed]",
      "text/plain": [
       "<Figure size 1152x288 with 2 Axes>"
      ]
     },
     "metadata": {
      "needs_background": "light"
     },
     "output_type": "display_data"
    },
    {
     "data": {
      "image/png": "[encoded data removed]",
      "text/plain": [
       "<Figure size 1152x288 with 2 Axes>"
      ]
     },
     "metadata": {
      "needs_background": "light"
     },
     "output_type": "display_data"
    },
    {
     "data": {
      "image/png": "[encoded data removed]",
      "text/plain": [
       "<Figure size 1152x288 with 2 Axes>"
      ]
     },
     "metadata": {
      "needs_background": "light"
     },
     "output_type": "display_data"
    },
    {
     "data": {
      "image/png": "[encoded data removed]",
      "text/plain": [
       "<Figure size 1152x288 with 2 Axes>"
      ]
     },
     "metadata": {
      "needs_background": "light"
     },
     "output_type": "display_data"
    }
   ],
   "source": [
    "plt.rcParams.update({'font.size': 11})\n",
    "\n",
    "plt.figure(figsize=(16,4))\n",
    "plt.subplot().patch.set_visible(False)\n",
    "sns.countplot(x = df['job'], hue='subscribed', data = df)\n",
    "plt.xlabel('Job')\n",
    "plt.ylabel('Count')\n",
    "\n",
    "plt.rcParams.update({'font.size': 16})\n",
    "\n",
    "# plt.show()\n",
    "\n",
    "for col in range(1, len(object_data) - 1, 2): \n",
    "    plt.figure(figsize=(16,4))\n",
    "    col_index = col\n",
    "    column_name = object_data[col_index]\n",
    "    col_index += 1\n",
    "    plt.subplot(1, 2, 1).patch.set_visible(False)\n",
    "    sns.countplot(x=df[column_name],hue='subscribed',data=df)\n",
    "    \n",
    "    column_name = object_data[col_index]\n",
    "    plt.subplot(1, 2, 2).patch.set_visible(False)\n",
    "    sns.countplot(x=df[column_name],hue='subscribed',data=df)\n",
    "    \n",
    "#     plt.show()"
   ]
  },
  {
   "cell_type": "markdown",
   "metadata": {},
   "source": [
    "**Let's see the above information in tabular form.**"
   ]
  },
  {
   "cell_type": "code",
   "execution_count": 29,
   "metadata": {},
   "outputs": [
    {
     "name": "stdout",
     "output_type": "stream",
     "text": [
      "subscribed  job          \n",
      "0           admin.           4540\n",
      "            blue-collar      9024\n",
      "            entrepreneur     1364\n",
      "            housemaid        1131\n",
      "            management       8157\n",
      "            retired          1748\n",
      "            self-employed    1392\n",
      "            services         3785\n",
      "            student           669\n",
      "            technician       6757\n",
      "            unemployed       1101\n",
      "            unknown           254\n",
      "1           admin.            631\n",
      "            blue-collar       708\n",
      "            entrepreneur      123\n",
      "            housemaid         109\n",
      "            management       1301\n",
      "            retired           516\n",
      "            self-employed     187\n",
      "            services          369\n",
      "            student           269\n",
      "            technician        840\n",
      "            unemployed        202\n",
      "            unknown            34\n",
      "dtype: int64\n",
      "\n",
      "subscribed  marital \n",
      "0           divorced     4585\n",
      "            married     24459\n",
      "            single      10878\n",
      "1           divorced      622\n",
      "            married      2755\n",
      "            single       1912\n",
      "dtype: int64\n",
      "\n",
      "subscribed  education\n",
      "0           primary       6260\n",
      "            secondary    20752\n",
      "            tertiary     11305\n",
      "            unknown       1605\n",
      "1           primary        591\n",
      "            secondary     2450\n",
      "            tertiary      1996\n",
      "            unknown        252\n",
      "dtype: int64\n",
      "\n",
      "subscribed  default\n",
      "0           no         39159\n",
      "            yes          763\n",
      "1           no          5237\n",
      "            yes           52\n",
      "dtype: int64\n",
      "\n",
      "subscribed  housing\n",
      "0           no         16727\n",
      "            yes        23195\n",
      "1           no          3354\n",
      "            yes         1935\n",
      "dtype: int64\n",
      "\n",
      "subscribed  loan\n",
      "0           no      33162\n",
      "            yes      6760\n",
      "1           no       4805\n",
      "            yes       484\n",
      "dtype: int64\n",
      "\n",
      "subscribed  contact  \n",
      "0           cellular     24916\n",
      "            telephone     2516\n",
      "            unknown      12490\n",
      "1           cellular      4369\n",
      "            telephone      390\n",
      "            unknown        530\n",
      "dtype: int64\n",
      "\n",
      "subscribed  month\n",
      "0           apr       2355\n",
      "            aug       5559\n",
      "            dec        114\n",
      "            feb       2208\n",
      "            jan       1261\n",
      "            jul       6268\n",
      "            jun       4795\n",
      "            mar        229\n",
      "            may      12841\n",
      "            nov       3567\n",
      "            oct        415\n",
      "            sep        310\n",
      "1           apr        577\n",
      "            aug        688\n",
      "            dec        100\n",
      "            feb        441\n",
      "            jan        142\n",
      "            jul        627\n",
      "            jun        546\n",
      "            mar        248\n",
      "            may        925\n",
      "            nov        403\n",
      "            oct        323\n",
      "            sep        269\n",
      "dtype: int64\n",
      "\n",
      "subscribed  poutcome\n",
      "0           failure      4283\n",
      "            other        1533\n",
      "            success       533\n",
      "            unknown     33573\n",
      "1           failure       618\n",
      "            other         307\n",
      "            success       978\n",
      "            unknown      3386\n",
      "dtype: int64\n",
      "\n"
     ]
    }
   ],
   "source": [
    "for col in object_data:\n",
    "    print(df.groupby(['subscribed', col]).size())\n",
    "    print()"
   ]
  },
  {
   "cell_type": "markdown",
   "metadata": {},
   "source": [
    "**Obeservations**\n",
    "- The customerrs in job category 'retired' have shown higher interest in the term deposit as compared to the others.\n",
    "- Customers with a tertiary level of education were more like to subscribe for the term deposit.\n",
    "- The people who do not have a credit have shown interest in the term deposit.\n",
    "- The people who do not have a housing loan have shown relatively higher interest in the term deposit.\n",
    "- Customers who were contacted during the month of March, September, December, and October repectively have mostly subscribed to the term deposit."
   ]
  },
  {
   "cell_type": "markdown",
   "metadata": {},
   "source": [
    "## Feature Engineering\n",
    "\n",
    "Feature Engineering is classifying features such as numerial and categorical into groups in order to deeply section and analyze the data.Here, we will create features for our predictive model. For each section, we will add new variables to the dataframe and then keep track of which columns of the dataframe we want to use as part of the predictive model features. We will break down this section into numerical and categorical features."
   ]
  },
  {
   "cell_type": "markdown",
   "metadata": {},
   "source": [
    "### Labeled Encoding"
   ]
  },
  {
   "cell_type": "markdown",
   "metadata": {},
   "source": [
    "We are performing the Labeled  encoding in which we will assign specific Numerical values to some caltegorical columns. We need to perform the Labeled encoding as We will need to have our feaures in Numericalbefore we try to run any Model with them or even if we want to find their correlation with other features.  \n",
    "Here are the columns that We have chosen for Labeled  encoding:\n",
    "- **education:** Education levels are comparable, So we can assign them the values 0, 1, 2, 3.\n",
    "- **housing, loan and default:** Bivariate, We can use 0 and 1 to denote 'no' and 'yes' respectively."
   ]
  },
  {
   "cell_type": "code",
   "execution_count": 30,
   "metadata": {},
   "outputs": [],
   "source": [
    "# Replacing the values stored in 'education column' with their codes\n",
    "df['education'].replace('unknown',0, inplace=True)\n",
    "df['education'].replace('primary',1, inplace=True)\n",
    "df['education'].replace('secondary',2, inplace=True)\n",
    "df['education'].replace('tertiary',3, inplace=True)\n",
    "\n",
    "# The column 'housing' and 'loan' are bivariate so we can replace them with 0s and 1s\n",
    "for column in ['housing', 'loan', 'default']:\n",
    "    df[column].replace('no',0, inplace=True)\n",
    "    df[column].replace('yes',1, inplace=True)"
   ]
  },
  {
   "cell_type": "markdown",
   "metadata": {},
   "source": [
    "- In the education column we have their the new numerical values on the basis of education levels.\n",
    "- 'housing', 'loan' and 'default' are still bivariate only there data type is now int64."
   ]
  },
  {
   "cell_type": "code",
   "execution_count": 31,
   "metadata": {
    "scrolled": true
   },
   "outputs": [
    {
     "data": {
      "text/html": [
       "<div>\n",
       "<style scoped>\n",
       "    .dataframe tbody tr th:only-of-type {\n",
       "        vertical-align: middle;\n",
       "    }\n",
       "\n",
       "    .dataframe tbody tr th {\n",
       "        vertical-align: top;\n",
       "    }\n",
       "\n",
       "    .dataframe thead th {\n",
       "        text-align: right;\n",
       "    }\n",
       "</style>\n",
       "<table border=\"1\" class=\"dataframe\">\n",
       "  <thead>\n",
       "    <tr style=\"text-align: right;\">\n",
       "      <th></th>\n",
       "      <th>age</th>\n",
       "      <th>education</th>\n",
       "      <th>default</th>\n",
       "      <th>balance</th>\n",
       "      <th>housing</th>\n",
       "      <th>loan</th>\n",
       "      <th>day</th>\n",
       "      <th>duration</th>\n",
       "      <th>campaign</th>\n",
       "      <th>pdays</th>\n",
       "      <th>previous</th>\n",
       "      <th>subscribed</th>\n",
       "    </tr>\n",
       "  </thead>\n",
       "  <tbody>\n",
       "    <tr>\n",
       "      <th>age</th>\n",
       "      <td>1.000000</td>\n",
       "      <td>-0.173615</td>\n",
       "      <td>-0.017879</td>\n",
       "      <td>0.097783</td>\n",
       "      <td>-0.185513</td>\n",
       "      <td>-0.015655</td>\n",
       "      <td>-0.009120</td>\n",
       "      <td>-0.004648</td>\n",
       "      <td>0.004760</td>\n",
       "      <td>-0.023758</td>\n",
       "      <td>0.001288</td>\n",
       "      <td>0.025155</td>\n",
       "    </tr>\n",
       "    <tr>\n",
       "      <th>education</th>\n",
       "      <td>-0.173615</td>\n",
       "      <td>1.000000</td>\n",
       "      <td>-0.009035</td>\n",
       "      <td>0.050572</td>\n",
       "      <td>-0.038689</td>\n",
       "      <td>0.004307</td>\n",
       "      <td>0.021661</td>\n",
       "      <td>0.002554</td>\n",
       "      <td>0.000194</td>\n",
       "      <td>0.007092</td>\n",
       "      <td>0.025295</td>\n",
       "      <td>0.051341</td>\n",
       "    </tr>\n",
       "    <tr>\n",
       "      <th>default</th>\n",
       "      <td>-0.017879</td>\n",
       "      <td>-0.009035</td>\n",
       "      <td>1.000000</td>\n",
       "      <td>-0.066745</td>\n",
       "      <td>-0.006025</td>\n",
       "      <td>0.077234</td>\n",
       "      <td>0.009424</td>\n",
       "      <td>-0.010021</td>\n",
       "      <td>0.016822</td>\n",
       "      <td>-0.029979</td>\n",
       "      <td>-0.018329</td>\n",
       "      <td>-0.022419</td>\n",
       "    </tr>\n",
       "    <tr>\n",
       "      <th>balance</th>\n",
       "      <td>0.097783</td>\n",
       "      <td>0.050572</td>\n",
       "      <td>-0.066745</td>\n",
       "      <td>1.000000</td>\n",
       "      <td>-0.068768</td>\n",
       "      <td>-0.084350</td>\n",
       "      <td>0.004503</td>\n",
       "      <td>0.021560</td>\n",
       "      <td>-0.014578</td>\n",
       "      <td>0.003435</td>\n",
       "      <td>0.016674</td>\n",
       "      <td>0.052838</td>\n",
       "    </tr>\n",
       "    <tr>\n",
       "      <th>housing</th>\n",
       "      <td>-0.185513</td>\n",
       "      <td>-0.038689</td>\n",
       "      <td>-0.006025</td>\n",
       "      <td>-0.068768</td>\n",
       "      <td>1.000000</td>\n",
       "      <td>0.041323</td>\n",
       "      <td>-0.027982</td>\n",
       "      <td>0.005075</td>\n",
       "      <td>-0.023599</td>\n",
       "      <td>0.124178</td>\n",
       "      <td>0.037076</td>\n",
       "      <td>-0.139173</td>\n",
       "    </tr>\n",
       "    <tr>\n",
       "      <th>loan</th>\n",
       "      <td>-0.015655</td>\n",
       "      <td>0.004307</td>\n",
       "      <td>0.077234</td>\n",
       "      <td>-0.084350</td>\n",
       "      <td>0.041323</td>\n",
       "      <td>1.000000</td>\n",
       "      <td>0.011370</td>\n",
       "      <td>-0.012412</td>\n",
       "      <td>0.009980</td>\n",
       "      <td>-0.022754</td>\n",
       "      <td>-0.011043</td>\n",
       "      <td>-0.068185</td>\n",
       "    </tr>\n",
       "    <tr>\n",
       "      <th>day</th>\n",
       "      <td>-0.009120</td>\n",
       "      <td>0.021661</td>\n",
       "      <td>0.009424</td>\n",
       "      <td>0.004503</td>\n",
       "      <td>-0.027982</td>\n",
       "      <td>0.011370</td>\n",
       "      <td>1.000000</td>\n",
       "      <td>-0.030206</td>\n",
       "      <td>0.162490</td>\n",
       "      <td>-0.093044</td>\n",
       "      <td>-0.051710</td>\n",
       "      <td>-0.028348</td>\n",
       "    </tr>\n",
       "    <tr>\n",
       "      <th>duration</th>\n",
       "      <td>-0.004648</td>\n",
       "      <td>0.002554</td>\n",
       "      <td>-0.010021</td>\n",
       "      <td>0.021560</td>\n",
       "      <td>0.005075</td>\n",
       "      <td>-0.012412</td>\n",
       "      <td>-0.030206</td>\n",
       "      <td>1.000000</td>\n",
       "      <td>-0.084570</td>\n",
       "      <td>-0.001565</td>\n",
       "      <td>0.001203</td>\n",
       "      <td>0.394521</td>\n",
       "    </tr>\n",
       "    <tr>\n",
       "      <th>campaign</th>\n",
       "      <td>0.004760</td>\n",
       "      <td>0.000194</td>\n",
       "      <td>0.016822</td>\n",
       "      <td>-0.014578</td>\n",
       "      <td>-0.023599</td>\n",
       "      <td>0.009980</td>\n",
       "      <td>0.162490</td>\n",
       "      <td>-0.084570</td>\n",
       "      <td>1.000000</td>\n",
       "      <td>-0.088628</td>\n",
       "      <td>-0.032855</td>\n",
       "      <td>-0.073172</td>\n",
       "    </tr>\n",
       "    <tr>\n",
       "      <th>pdays</th>\n",
       "      <td>-0.023758</td>\n",
       "      <td>0.007092</td>\n",
       "      <td>-0.029979</td>\n",
       "      <td>0.003435</td>\n",
       "      <td>0.124178</td>\n",
       "      <td>-0.022754</td>\n",
       "      <td>-0.093044</td>\n",
       "      <td>-0.001565</td>\n",
       "      <td>-0.088628</td>\n",
       "      <td>1.000000</td>\n",
       "      <td>0.454820</td>\n",
       "      <td>0.103621</td>\n",
       "    </tr>\n",
       "    <tr>\n",
       "      <th>previous</th>\n",
       "      <td>0.001288</td>\n",
       "      <td>0.025295</td>\n",
       "      <td>-0.018329</td>\n",
       "      <td>0.016674</td>\n",
       "      <td>0.037076</td>\n",
       "      <td>-0.011043</td>\n",
       "      <td>-0.051710</td>\n",
       "      <td>0.001203</td>\n",
       "      <td>-0.032855</td>\n",
       "      <td>0.454820</td>\n",
       "      <td>1.000000</td>\n",
       "      <td>0.093236</td>\n",
       "    </tr>\n",
       "    <tr>\n",
       "      <th>subscribed</th>\n",
       "      <td>0.025155</td>\n",
       "      <td>0.051341</td>\n",
       "      <td>-0.022419</td>\n",
       "      <td>0.052838</td>\n",
       "      <td>-0.139173</td>\n",
       "      <td>-0.068185</td>\n",
       "      <td>-0.028348</td>\n",
       "      <td>0.394521</td>\n",
       "      <td>-0.073172</td>\n",
       "      <td>0.103621</td>\n",
       "      <td>0.093236</td>\n",
       "      <td>1.000000</td>\n",
       "    </tr>\n",
       "  </tbody>\n",
       "</table>\n",
       "</div>"
      ],
      "text/plain": [
       "                 age  education   default   balance   housing      loan  \\\n",
       "age         1.000000  -0.173615 -0.017879  0.097783 -0.185513 -0.015655   \n",
       "education  -0.173615   1.000000 -0.009035  0.050572 -0.038689  0.004307   \n",
       "default    -0.017879  -0.009035  1.000000 -0.066745 -0.006025  0.077234   \n",
       "balance     0.097783   0.050572 -0.066745  1.000000 -0.068768 -0.084350   \n",
       "housing    -0.185513  -0.038689 -0.006025 -0.068768  1.000000  0.041323   \n",
       "loan       -0.015655   0.004307  0.077234 -0.084350  0.041323  1.000000   \n",
       "day        -0.009120   0.021661  0.009424  0.004503 -0.027982  0.011370   \n",
       "duration   -0.004648   0.002554 -0.010021  0.021560  0.005075 -0.012412   \n",
       "campaign    0.004760   0.000194  0.016822 -0.014578 -0.023599  0.009980   \n",
       "pdays      -0.023758   0.007092 -0.029979  0.003435  0.124178 -0.022754   \n",
       "previous    0.001288   0.025295 -0.018329  0.016674  0.037076 -0.011043   \n",
       "subscribed  0.025155   0.051341 -0.022419  0.052838 -0.139173 -0.068185   \n",
       "\n",
       "                 day  duration  campaign     pdays  previous  subscribed  \n",
       "age        -0.009120 -0.004648  0.004760 -0.023758  0.001288    0.025155  \n",
       "education   0.021661  0.002554  0.000194  0.007092  0.025295    0.051341  \n",
       "default     0.009424 -0.010021  0.016822 -0.029979 -0.018329   -0.022419  \n",
       "balance     0.004503  0.021560 -0.014578  0.003435  0.016674    0.052838  \n",
       "housing    -0.027982  0.005075 -0.023599  0.124178  0.037076   -0.139173  \n",
       "loan        0.011370 -0.012412  0.009980 -0.022754 -0.011043   -0.068185  \n",
       "day         1.000000 -0.030206  0.162490 -0.093044 -0.051710   -0.028348  \n",
       "duration   -0.030206  1.000000 -0.084570 -0.001565  0.001203    0.394521  \n",
       "campaign    0.162490 -0.084570  1.000000 -0.088628 -0.032855   -0.073172  \n",
       "pdays      -0.093044 -0.001565 -0.088628  1.000000  0.454820    0.103621  \n",
       "previous   -0.051710  0.001203 -0.032855  0.454820  1.000000    0.093236  \n",
       "subscribed -0.028348  0.394521 -0.073172  0.103621  0.093236    1.000000  "
      ]
     },
     "execution_count": 31,
     "metadata": {},
     "output_type": "execute_result"
    }
   ],
   "source": [
    "df.corr()"
   ]
  },
  {
   "cell_type": "code",
   "execution_count": 32,
   "metadata": {
    "scrolled": false
   },
   "outputs": [
    {
     "data": {
      "image/png": "[encoded data removed]",
      "text/plain": [
       "<Figure size 720x360 with 2 Axes>"
      ]
     },
     "metadata": {
      "needs_background": "light"
     },
     "output_type": "display_data"
    }
   ],
   "source": [
    "plt.subplots(figsize=(10,5)) \n",
    "sns.heatmap(df.corr(), cbar=True, cmap=\"RdBu_r\", linewidths=1)\n",
    "plt.title(\"Correlation Matrix\", fontsize=18)\n",
    "plt.show()"
   ]
  },
  {
   "cell_type": "code",
   "execution_count": 33,
   "metadata": {},
   "outputs": [
    {
     "data": {
      "text/plain": [
       "['job', 'marital', 'contact', 'month', 'poutcome']"
      ]
     },
     "execution_count": 33,
     "metadata": {},
     "output_type": "execute_result"
    }
   ],
   "source": [
    "object_data = [data for data in df.dtypes[df.dtypes == 'object'].index]\n",
    "object_data"
   ]
  },
  {
   "cell_type": "code",
   "execution_count": 34,
   "metadata": {},
   "outputs": [
    {
     "data": {
      "text/plain": [
       "age            int64\n",
       "job           object\n",
       "marital       object\n",
       "education      int64\n",
       "default        int64\n",
       "balance        int64\n",
       "housing        int64\n",
       "loan           int64\n",
       "contact       object\n",
       "day            int64\n",
       "month         object\n",
       "duration       int64\n",
       "campaign       int64\n",
       "pdays          int64\n",
       "previous       int64\n",
       "poutcome      object\n",
       "subscribed     int32\n",
       "dtype: object"
      ]
     },
     "execution_count": 34,
     "metadata": {},
     "output_type": "execute_result"
    }
   ],
   "source": [
    "df.dtypes"
   ]
  },
  {
   "cell_type": "code",
   "execution_count": 35,
   "metadata": {},
   "outputs": [
    {
     "data": {
      "text/plain": [
       "job         0\n",
       "marital     0\n",
       "contact     0\n",
       "month       0\n",
       "poutcome    0\n",
       "dtype: int64"
      ]
     },
     "execution_count": 35,
     "metadata": {},
     "output_type": "execute_result"
    }
   ],
   "source": [
    "# Check for missing values\n",
    "df[object_data].isnull().sum()"
   ]
  },
  {
   "cell_type": "code",
   "execution_count": 36,
   "metadata": {},
   "outputs": [],
   "source": [
    "encoded_df = df.copy()"
   ]
  },
  {
   "cell_type": "code",
   "execution_count": 37,
   "metadata": {},
   "outputs": [
    {
     "data": {
      "text/plain": [
       "age                    int64\n",
       "job                 category\n",
       "marital             category\n",
       "education              int64\n",
       "default                int64\n",
       "balance                int64\n",
       "housing                int64\n",
       "loan                   int64\n",
       "contact             category\n",
       "day                    int64\n",
       "month               category\n",
       "duration               int64\n",
       "campaign               int64\n",
       "pdays                  int64\n",
       "previous               int64\n",
       "poutcome            category\n",
       "subscribed             int32\n",
       "job_encoded             int8\n",
       "marital_encoded         int8\n",
       "contact_encoded         int8\n",
       "month_encoded           int8\n",
       "poutcome_encoded        int8\n",
       "dtype: object"
      ]
     },
     "execution_count": 37,
     "metadata": {},
     "output_type": "execute_result"
    }
   ],
   "source": [
    "encoded_col_names = []\n",
    "for col in object_data:\n",
    "    encoded_df[col] = df[col].astype('category')\n",
    "    encoded_df[col+\"_encoded\"] = encoded_df[col].cat.codes\n",
    "    encoded_col_names.append(col+\"_encoded\")\n",
    "encoded_df.dtypes"
   ]
  },
  {
   "cell_type": "code",
   "execution_count": 38,
   "metadata": {},
   "outputs": [
    {
     "data": {
      "text/html": [
       "<div>\n",
       "<style scoped>\n",
       "    .dataframe tbody tr th:only-of-type {\n",
       "        vertical-align: middle;\n",
       "    }\n",
       "\n",
       "    .dataframe tbody tr th {\n",
       "        vertical-align: top;\n",
       "    }\n",
       "\n",
       "    .dataframe thead th {\n",
       "        text-align: right;\n",
       "    }\n",
       "</style>\n",
       "<table border=\"1\" class=\"dataframe\">\n",
       "  <thead>\n",
       "    <tr style=\"text-align: right;\">\n",
       "      <th></th>\n",
       "      <th>age</th>\n",
       "      <th>job</th>\n",
       "      <th>marital</th>\n",
       "      <th>education</th>\n",
       "      <th>default</th>\n",
       "      <th>balance</th>\n",
       "      <th>housing</th>\n",
       "      <th>loan</th>\n",
       "      <th>contact</th>\n",
       "      <th>day</th>\n",
       "      <th>...</th>\n",
       "      <th>campaign</th>\n",
       "      <th>pdays</th>\n",
       "      <th>previous</th>\n",
       "      <th>poutcome</th>\n",
       "      <th>subscribed</th>\n",
       "      <th>job_encoded</th>\n",
       "      <th>marital_encoded</th>\n",
       "      <th>contact_encoded</th>\n",
       "      <th>month_encoded</th>\n",
       "      <th>poutcome_encoded</th>\n",
       "    </tr>\n",
       "  </thead>\n",
       "  <tbody>\n",
       "    <tr>\n",
       "      <th>0</th>\n",
       "      <td>58</td>\n",
       "      <td>management</td>\n",
       "      <td>married</td>\n",
       "      <td>3</td>\n",
       "      <td>0</td>\n",
       "      <td>2143</td>\n",
       "      <td>1</td>\n",
       "      <td>0</td>\n",
       "      <td>unknown</td>\n",
       "      <td>5</td>\n",
       "      <td>...</td>\n",
       "      <td>1</td>\n",
       "      <td>-1</td>\n",
       "      <td>0</td>\n",
       "      <td>unknown</td>\n",
       "      <td>0</td>\n",
       "      <td>4</td>\n",
       "      <td>1</td>\n",
       "      <td>2</td>\n",
       "      <td>8</td>\n",
       "      <td>3</td>\n",
       "    </tr>\n",
       "    <tr>\n",
       "      <th>1</th>\n",
       "      <td>44</td>\n",
       "      <td>technician</td>\n",
       "      <td>single</td>\n",
       "      <td>2</td>\n",
       "      <td>0</td>\n",
       "      <td>29</td>\n",
       "      <td>1</td>\n",
       "      <td>0</td>\n",
       "      <td>unknown</td>\n",
       "      <td>5</td>\n",
       "      <td>...</td>\n",
       "      <td>1</td>\n",
       "      <td>-1</td>\n",
       "      <td>0</td>\n",
       "      <td>unknown</td>\n",
       "      <td>0</td>\n",
       "      <td>9</td>\n",
       "      <td>2</td>\n",
       "      <td>2</td>\n",
       "      <td>8</td>\n",
       "      <td>3</td>\n",
       "    </tr>\n",
       "    <tr>\n",
       "      <th>2</th>\n",
       "      <td>33</td>\n",
       "      <td>entrepreneur</td>\n",
       "      <td>married</td>\n",
       "      <td>2</td>\n",
       "      <td>0</td>\n",
       "      <td>2</td>\n",
       "      <td>1</td>\n",
       "      <td>1</td>\n",
       "      <td>unknown</td>\n",
       "      <td>5</td>\n",
       "      <td>...</td>\n",
       "      <td>1</td>\n",
       "      <td>-1</td>\n",
       "      <td>0</td>\n",
       "      <td>unknown</td>\n",
       "      <td>0</td>\n",
       "      <td>2</td>\n",
       "      <td>1</td>\n",
       "      <td>2</td>\n",
       "      <td>8</td>\n",
       "      <td>3</td>\n",
       "    </tr>\n",
       "    <tr>\n",
       "      <th>3</th>\n",
       "      <td>47</td>\n",
       "      <td>blue-collar</td>\n",
       "      <td>married</td>\n",
       "      <td>0</td>\n",
       "      <td>0</td>\n",
       "      <td>1506</td>\n",
       "      <td>1</td>\n",
       "      <td>0</td>\n",
       "      <td>unknown</td>\n",
       "      <td>5</td>\n",
       "      <td>...</td>\n",
       "      <td>1</td>\n",
       "      <td>-1</td>\n",
       "      <td>0</td>\n",
       "      <td>unknown</td>\n",
       "      <td>0</td>\n",
       "      <td>1</td>\n",
       "      <td>1</td>\n",
       "      <td>2</td>\n",
       "      <td>8</td>\n",
       "      <td>3</td>\n",
       "    </tr>\n",
       "    <tr>\n",
       "      <th>4</th>\n",
       "      <td>33</td>\n",
       "      <td>unknown</td>\n",
       "      <td>single</td>\n",
       "      <td>0</td>\n",
       "      <td>0</td>\n",
       "      <td>1</td>\n",
       "      <td>0</td>\n",
       "      <td>0</td>\n",
       "      <td>unknown</td>\n",
       "      <td>5</td>\n",
       "      <td>...</td>\n",
       "      <td>1</td>\n",
       "      <td>-1</td>\n",
       "      <td>0</td>\n",
       "      <td>unknown</td>\n",
       "      <td>0</td>\n",
       "      <td>11</td>\n",
       "      <td>2</td>\n",
       "      <td>2</td>\n",
       "      <td>8</td>\n",
       "      <td>3</td>\n",
       "    </tr>\n",
       "    <tr>\n",
       "      <th>...</th>\n",
       "      <td>...</td>\n",
       "      <td>...</td>\n",
       "      <td>...</td>\n",
       "      <td>...</td>\n",
       "      <td>...</td>\n",
       "      <td>...</td>\n",
       "      <td>...</td>\n",
       "      <td>...</td>\n",
       "      <td>...</td>\n",
       "      <td>...</td>\n",
       "      <td>...</td>\n",
       "      <td>...</td>\n",
       "      <td>...</td>\n",
       "      <td>...</td>\n",
       "      <td>...</td>\n",
       "      <td>...</td>\n",
       "      <td>...</td>\n",
       "      <td>...</td>\n",
       "      <td>...</td>\n",
       "      <td>...</td>\n",
       "      <td>...</td>\n",
       "    </tr>\n",
       "    <tr>\n",
       "      <th>45206</th>\n",
       "      <td>51</td>\n",
       "      <td>technician</td>\n",
       "      <td>married</td>\n",
       "      <td>3</td>\n",
       "      <td>0</td>\n",
       "      <td>825</td>\n",
       "      <td>0</td>\n",
       "      <td>0</td>\n",
       "      <td>cellular</td>\n",
       "      <td>17</td>\n",
       "      <td>...</td>\n",
       "      <td>3</td>\n",
       "      <td>-1</td>\n",
       "      <td>0</td>\n",
       "      <td>unknown</td>\n",
       "      <td>1</td>\n",
       "      <td>9</td>\n",
       "      <td>1</td>\n",
       "      <td>0</td>\n",
       "      <td>9</td>\n",
       "      <td>3</td>\n",
       "    </tr>\n",
       "    <tr>\n",
       "      <th>45207</th>\n",
       "      <td>71</td>\n",
       "      <td>retired</td>\n",
       "      <td>divorced</td>\n",
       "      <td>1</td>\n",
       "      <td>0</td>\n",
       "      <td>1729</td>\n",
       "      <td>0</td>\n",
       "      <td>0</td>\n",
       "      <td>cellular</td>\n",
       "      <td>17</td>\n",
       "      <td>...</td>\n",
       "      <td>2</td>\n",
       "      <td>-1</td>\n",
       "      <td>0</td>\n",
       "      <td>unknown</td>\n",
       "      <td>1</td>\n",
       "      <td>5</td>\n",
       "      <td>0</td>\n",
       "      <td>0</td>\n",
       "      <td>9</td>\n",
       "      <td>3</td>\n",
       "    </tr>\n",
       "    <tr>\n",
       "      <th>45208</th>\n",
       "      <td>72</td>\n",
       "      <td>retired</td>\n",
       "      <td>married</td>\n",
       "      <td>2</td>\n",
       "      <td>0</td>\n",
       "      <td>5715</td>\n",
       "      <td>0</td>\n",
       "      <td>0</td>\n",
       "      <td>cellular</td>\n",
       "      <td>17</td>\n",
       "      <td>...</td>\n",
       "      <td>5</td>\n",
       "      <td>184</td>\n",
       "      <td>3</td>\n",
       "      <td>success</td>\n",
       "      <td>1</td>\n",
       "      <td>5</td>\n",
       "      <td>1</td>\n",
       "      <td>0</td>\n",
       "      <td>9</td>\n",
       "      <td>2</td>\n",
       "    </tr>\n",
       "    <tr>\n",
       "      <th>45209</th>\n",
       "      <td>57</td>\n",
       "      <td>blue-collar</td>\n",
       "      <td>married</td>\n",
       "      <td>2</td>\n",
       "      <td>0</td>\n",
       "      <td>668</td>\n",
       "      <td>0</td>\n",
       "      <td>0</td>\n",
       "      <td>telephone</td>\n",
       "      <td>17</td>\n",
       "      <td>...</td>\n",
       "      <td>4</td>\n",
       "      <td>-1</td>\n",
       "      <td>0</td>\n",
       "      <td>unknown</td>\n",
       "      <td>0</td>\n",
       "      <td>1</td>\n",
       "      <td>1</td>\n",
       "      <td>1</td>\n",
       "      <td>9</td>\n",
       "      <td>3</td>\n",
       "    </tr>\n",
       "    <tr>\n",
       "      <th>45210</th>\n",
       "      <td>37</td>\n",
       "      <td>entrepreneur</td>\n",
       "      <td>married</td>\n",
       "      <td>2</td>\n",
       "      <td>0</td>\n",
       "      <td>2971</td>\n",
       "      <td>0</td>\n",
       "      <td>0</td>\n",
       "      <td>cellular</td>\n",
       "      <td>17</td>\n",
       "      <td>...</td>\n",
       "      <td>2</td>\n",
       "      <td>188</td>\n",
       "      <td>11</td>\n",
       "      <td>other</td>\n",
       "      <td>0</td>\n",
       "      <td>2</td>\n",
       "      <td>1</td>\n",
       "      <td>0</td>\n",
       "      <td>9</td>\n",
       "      <td>1</td>\n",
       "    </tr>\n",
       "  </tbody>\n",
       "</table>\n",
       "<p>45211 rows × 22 columns</p>\n",
       "</div>"
      ],
      "text/plain": [
       "       age           job   marital  education  default  balance  housing  \\\n",
       "0       58    management   married          3        0     2143        1   \n",
       "1       44    technician    single          2        0       29        1   \n",
       "2       33  entrepreneur   married          2        0        2        1   \n",
       "3       47   blue-collar   married          0        0     1506        1   \n",
       "4       33       unknown    single          0        0        1        0   \n",
       "...    ...           ...       ...        ...      ...      ...      ...   \n",
       "45206   51    technician   married          3        0      825        0   \n",
       "45207   71       retired  divorced          1        0     1729        0   \n",
       "45208   72       retired   married          2        0     5715        0   \n",
       "45209   57   blue-collar   married          2        0      668        0   \n",
       "45210   37  entrepreneur   married          2        0     2971        0   \n",
       "\n",
       "       loan    contact  day  ... campaign  pdays  previous  poutcome  \\\n",
       "0         0    unknown    5  ...        1     -1         0   unknown   \n",
       "1         0    unknown    5  ...        1     -1         0   unknown   \n",
       "2         1    unknown    5  ...        1     -1         0   unknown   \n",
       "3         0    unknown    5  ...        1     -1         0   unknown   \n",
       "4         0    unknown    5  ...        1     -1         0   unknown   \n",
       "...     ...        ...  ...  ...      ...    ...       ...       ...   \n",
       "45206     0   cellular   17  ...        3     -1         0   unknown   \n",
       "45207     0   cellular   17  ...        2     -1         0   unknown   \n",
       "45208     0   cellular   17  ...        5    184         3   success   \n",
       "45209     0  telephone   17  ...        4     -1         0   unknown   \n",
       "45210     0   cellular   17  ...        2    188        11     other   \n",
       "\n",
       "       subscribed job_encoded  marital_encoded  contact_encoded  \\\n",
       "0               0           4                1                2   \n",
       "1               0           9                2                2   \n",
       "2               0           2                1                2   \n",
       "3               0           1                1                2   \n",
       "4               0          11                2                2   \n",
       "...           ...         ...              ...              ...   \n",
       "45206           1           9                1                0   \n",
       "45207           1           5                0                0   \n",
       "45208           1           5                1                0   \n",
       "45209           0           1                1                1   \n",
       "45210           0           2                1                0   \n",
       "\n",
       "       month_encoded  poutcome_encoded  \n",
       "0                  8                 3  \n",
       "1                  8                 3  \n",
       "2                  8                 3  \n",
       "3                  8                 3  \n",
       "4                  8                 3  \n",
       "...              ...               ...  \n",
       "45206              9                 3  \n",
       "45207              9                 3  \n",
       "45208              9                 2  \n",
       "45209              9                 3  \n",
       "45210              9                 1  \n",
       "\n",
       "[45211 rows x 22 columns]"
      ]
     },
     "execution_count": 38,
     "metadata": {},
     "output_type": "execute_result"
    }
   ],
   "source": [
    "encoded_df"
   ]
  },
  {
   "cell_type": "code",
   "execution_count": 39,
   "metadata": {},
   "outputs": [
    {
     "data": {
      "text/plain": [
       "Index(['age', 'job', 'marital', 'education', 'default', 'balance', 'housing',\n",
       "       'loan', 'contact', 'day', 'month', 'duration', 'campaign', 'pdays',\n",
       "       'previous', 'poutcome', 'subscribed', 'job_encoded', 'marital_encoded',\n",
       "       'contact_encoded', 'month_encoded', 'poutcome_encoded'],\n",
       "      dtype='object')"
      ]
     },
     "execution_count": 39,
     "metadata": {},
     "output_type": "execute_result"
    }
   ],
   "source": [
    "encoded_df.columns"
   ]
  },
  {
   "cell_type": "code",
   "execution_count": 40,
   "metadata": {},
   "outputs": [
    {
     "data": {
      "text/plain": [
       "Index(['age', 'education', 'default', 'balance', 'housing', 'loan', 'day',\n",
       "       'duration', 'campaign', 'pdays', 'previous', 'subscribed',\n",
       "       'job_encoded', 'marital_encoded', 'contact_encoded', 'month_encoded',\n",
       "       'poutcome_encoded'],\n",
       "      dtype='object')"
      ]
     },
     "execution_count": 40,
     "metadata": {},
     "output_type": "execute_result"
    }
   ],
   "source": [
    "encoded_df.drop(object_data, axis=1, inplace=True)\n",
    "encoded_df.columns"
   ]
  },
  {
   "cell_type": "code",
   "execution_count": 41,
   "metadata": {
    "scrolled": false
   },
   "outputs": [
    {
     "data": {
      "text/plain": [
       "Text(0.5, 1.0, 'Correlation Matrix')"
      ]
     },
     "execution_count": 41,
     "metadata": {},
     "output_type": "execute_result"
    },
    {
     "data": {
      "image/png": "[encoded data removed]",
      "text/plain": [
       "<Figure size 1800x720 with 2 Axes>"
      ]
     },
     "metadata": {
      "needs_background": "light"
     },
     "output_type": "display_data"
    }
   ],
   "source": [
    "encoded_col_names.append('subscribed')\n",
    "\n",
    "plt.subplots(figsize=(25,10)) \n",
    "sns.heatmap(encoded_df[encoded_col_names].corr(), cbar=True, cmap=\"RdBu_r\",linewidths=1, annot=True)\n",
    "plt.title(\"Correlation Matrix\", fontsize=18)\n",
    "# plt.show()"
   ]
  },
  {
   "cell_type": "markdown",
   "metadata": {},
   "source": [
    "**Checking Non-Significant and redundant columns**\n",
    "- Before deciding to drop any of the available columns We will  run a final check on the suspected columns."
   ]
  },
  {
   "cell_type": "code",
   "execution_count": 42,
   "metadata": {
    "scrolled": true
   },
   "outputs": [
    {
     "name": "stdout",
     "output_type": "stream",
     "text": [
      "default\n",
      "0    44396\n",
      "1      815\n",
      "dtype: int64\n",
      "subscribed  default\n",
      "0           0          39159\n",
      "            1            763\n",
      "1           0           5237\n",
      "            1             52\n",
      "dtype: int64\n"
     ]
    }
   ],
   "source": [
    "#defaut feature does not play imp role\n",
    "print(df.groupby(['default']).size())\n",
    "print(df.groupby(['subscribed','default']).size())"
   ]
  },
  {
   "cell_type": "markdown",
   "metadata": {},
   "source": [
    "- We are replacing the value '-1' in the column 'pdays' with 0 as the -1 is the most frequent value in the column and it can affect the calculations later."
   ]
  },
  {
   "cell_type": "code",
   "execution_count": 43,
   "metadata": {},
   "outputs": [],
   "source": [
    "df['pdays'].replace(-1,0, inplace=True)"
   ]
  },
  {
   "cell_type": "code",
   "execution_count": 44,
   "metadata": {},
   "outputs": [
    {
     "data": {
      "text/html": [
       "<div>\n",
       "<style scoped>\n",
       "    .dataframe tbody tr th:only-of-type {\n",
       "        vertical-align: middle;\n",
       "    }\n",
       "\n",
       "    .dataframe tbody tr th {\n",
       "        vertical-align: top;\n",
       "    }\n",
       "\n",
       "    .dataframe thead th {\n",
       "        text-align: right;\n",
       "    }\n",
       "</style>\n",
       "<table border=\"1\" class=\"dataframe\">\n",
       "  <thead>\n",
       "    <tr style=\"text-align: right;\">\n",
       "      <th></th>\n",
       "      <th>age</th>\n",
       "      <th>education</th>\n",
       "      <th>default</th>\n",
       "      <th>balance</th>\n",
       "      <th>housing</th>\n",
       "      <th>loan</th>\n",
       "      <th>day</th>\n",
       "      <th>duration</th>\n",
       "      <th>campaign</th>\n",
       "      <th>pdays</th>\n",
       "      <th>previous</th>\n",
       "      <th>subscribed</th>\n",
       "    </tr>\n",
       "  </thead>\n",
       "  <tbody>\n",
       "    <tr>\n",
       "      <th>age</th>\n",
       "      <td>1.000000</td>\n",
       "      <td>-0.173615</td>\n",
       "      <td>-0.017879</td>\n",
       "      <td>0.097783</td>\n",
       "      <td>-0.185513</td>\n",
       "      <td>-0.015655</td>\n",
       "      <td>-0.009120</td>\n",
       "      <td>-0.004648</td>\n",
       "      <td>0.004760</td>\n",
       "      <td>-0.023841</td>\n",
       "      <td>0.001288</td>\n",
       "      <td>0.025155</td>\n",
       "    </tr>\n",
       "    <tr>\n",
       "      <th>education</th>\n",
       "      <td>-0.173615</td>\n",
       "      <td>1.000000</td>\n",
       "      <td>-0.009035</td>\n",
       "      <td>0.050572</td>\n",
       "      <td>-0.038689</td>\n",
       "      <td>0.004307</td>\n",
       "      <td>0.021661</td>\n",
       "      <td>0.002554</td>\n",
       "      <td>0.000194</td>\n",
       "      <td>0.006975</td>\n",
       "      <td>0.025295</td>\n",
       "      <td>0.051341</td>\n",
       "    </tr>\n",
       "    <tr>\n",
       "      <th>default</th>\n",
       "      <td>-0.017879</td>\n",
       "      <td>-0.009035</td>\n",
       "      <td>1.000000</td>\n",
       "      <td>-0.066745</td>\n",
       "      <td>-0.006025</td>\n",
       "      <td>0.077234</td>\n",
       "      <td>0.009424</td>\n",
       "      <td>-0.010021</td>\n",
       "      <td>0.016822</td>\n",
       "      <td>-0.029927</td>\n",
       "      <td>-0.018329</td>\n",
       "      <td>-0.022419</td>\n",
       "    </tr>\n",
       "    <tr>\n",
       "      <th>balance</th>\n",
       "      <td>0.097783</td>\n",
       "      <td>0.050572</td>\n",
       "      <td>-0.066745</td>\n",
       "      <td>1.000000</td>\n",
       "      <td>-0.068768</td>\n",
       "      <td>-0.084350</td>\n",
       "      <td>0.004503</td>\n",
       "      <td>0.021560</td>\n",
       "      <td>-0.014578</td>\n",
       "      <td>0.003330</td>\n",
       "      <td>0.016674</td>\n",
       "      <td>0.052838</td>\n",
       "    </tr>\n",
       "    <tr>\n",
       "      <th>housing</th>\n",
       "      <td>-0.185513</td>\n",
       "      <td>-0.038689</td>\n",
       "      <td>-0.006025</td>\n",
       "      <td>-0.068768</td>\n",
       "      <td>1.000000</td>\n",
       "      <td>0.041323</td>\n",
       "      <td>-0.027982</td>\n",
       "      <td>0.005075</td>\n",
       "      <td>-0.023599</td>\n",
       "      <td>0.124350</td>\n",
       "      <td>0.037076</td>\n",
       "      <td>-0.139173</td>\n",
       "    </tr>\n",
       "    <tr>\n",
       "      <th>loan</th>\n",
       "      <td>-0.015655</td>\n",
       "      <td>0.004307</td>\n",
       "      <td>0.077234</td>\n",
       "      <td>-0.084350</td>\n",
       "      <td>0.041323</td>\n",
       "      <td>1.000000</td>\n",
       "      <td>0.011370</td>\n",
       "      <td>-0.012412</td>\n",
       "      <td>0.009980</td>\n",
       "      <td>-0.022709</td>\n",
       "      <td>-0.011043</td>\n",
       "      <td>-0.068185</td>\n",
       "    </tr>\n",
       "    <tr>\n",
       "      <th>day</th>\n",
       "      <td>-0.009120</td>\n",
       "      <td>0.021661</td>\n",
       "      <td>0.009424</td>\n",
       "      <td>0.004503</td>\n",
       "      <td>-0.027982</td>\n",
       "      <td>0.011370</td>\n",
       "      <td>1.000000</td>\n",
       "      <td>-0.030206</td>\n",
       "      <td>0.162490</td>\n",
       "      <td>-0.093024</td>\n",
       "      <td>-0.051710</td>\n",
       "      <td>-0.028348</td>\n",
       "    </tr>\n",
       "    <tr>\n",
       "      <th>duration</th>\n",
       "      <td>-0.004648</td>\n",
       "      <td>0.002554</td>\n",
       "      <td>-0.010021</td>\n",
       "      <td>0.021560</td>\n",
       "      <td>0.005075</td>\n",
       "      <td>-0.012412</td>\n",
       "      <td>-0.030206</td>\n",
       "      <td>1.000000</td>\n",
       "      <td>-0.084570</td>\n",
       "      <td>-0.001584</td>\n",
       "      <td>0.001203</td>\n",
       "      <td>0.394521</td>\n",
       "    </tr>\n",
       "    <tr>\n",
       "      <th>campaign</th>\n",
       "      <td>0.004760</td>\n",
       "      <td>0.000194</td>\n",
       "      <td>0.016822</td>\n",
       "      <td>-0.014578</td>\n",
       "      <td>-0.023599</td>\n",
       "      <td>0.009980</td>\n",
       "      <td>0.162490</td>\n",
       "      <td>-0.084570</td>\n",
       "      <td>1.000000</td>\n",
       "      <td>-0.088508</td>\n",
       "      <td>-0.032855</td>\n",
       "      <td>-0.073172</td>\n",
       "    </tr>\n",
       "    <tr>\n",
       "      <th>pdays</th>\n",
       "      <td>-0.023841</td>\n",
       "      <td>0.006975</td>\n",
       "      <td>-0.029927</td>\n",
       "      <td>0.003330</td>\n",
       "      <td>0.124350</td>\n",
       "      <td>-0.022709</td>\n",
       "      <td>-0.093024</td>\n",
       "      <td>-0.001584</td>\n",
       "      <td>-0.088508</td>\n",
       "      <td>1.000000</td>\n",
       "      <td>0.454288</td>\n",
       "      <td>0.103323</td>\n",
       "    </tr>\n",
       "    <tr>\n",
       "      <th>previous</th>\n",
       "      <td>0.001288</td>\n",
       "      <td>0.025295</td>\n",
       "      <td>-0.018329</td>\n",
       "      <td>0.016674</td>\n",
       "      <td>0.037076</td>\n",
       "      <td>-0.011043</td>\n",
       "      <td>-0.051710</td>\n",
       "      <td>0.001203</td>\n",
       "      <td>-0.032855</td>\n",
       "      <td>0.454288</td>\n",
       "      <td>1.000000</td>\n",
       "      <td>0.093236</td>\n",
       "    </tr>\n",
       "    <tr>\n",
       "      <th>subscribed</th>\n",
       "      <td>0.025155</td>\n",
       "      <td>0.051341</td>\n",
       "      <td>-0.022419</td>\n",
       "      <td>0.052838</td>\n",
       "      <td>-0.139173</td>\n",
       "      <td>-0.068185</td>\n",
       "      <td>-0.028348</td>\n",
       "      <td>0.394521</td>\n",
       "      <td>-0.073172</td>\n",
       "      <td>0.103323</td>\n",
       "      <td>0.093236</td>\n",
       "      <td>1.000000</td>\n",
       "    </tr>\n",
       "  </tbody>\n",
       "</table>\n",
       "</div>"
      ],
      "text/plain": [
       "                 age  education   default   balance   housing      loan  \\\n",
       "age         1.000000  -0.173615 -0.017879  0.097783 -0.185513 -0.015655   \n",
       "education  -0.173615   1.000000 -0.009035  0.050572 -0.038689  0.004307   \n",
       "default    -0.017879  -0.009035  1.000000 -0.066745 -0.006025  0.077234   \n",
       "balance     0.097783   0.050572 -0.066745  1.000000 -0.068768 -0.084350   \n",
       "housing    -0.185513  -0.038689 -0.006025 -0.068768  1.000000  0.041323   \n",
       "loan       -0.015655   0.004307  0.077234 -0.084350  0.041323  1.000000   \n",
       "day        -0.009120   0.021661  0.009424  0.004503 -0.027982  0.011370   \n",
       "duration   -0.004648   0.002554 -0.010021  0.021560  0.005075 -0.012412   \n",
       "campaign    0.004760   0.000194  0.016822 -0.014578 -0.023599  0.009980   \n",
       "pdays      -0.023841   0.006975 -0.029927  0.003330  0.124350 -0.022709   \n",
       "previous    0.001288   0.025295 -0.018329  0.016674  0.037076 -0.011043   \n",
       "subscribed  0.025155   0.051341 -0.022419  0.052838 -0.139173 -0.068185   \n",
       "\n",
       "                 day  duration  campaign     pdays  previous  subscribed  \n",
       "age        -0.009120 -0.004648  0.004760 -0.023841  0.001288    0.025155  \n",
       "education   0.021661  0.002554  0.000194  0.006975  0.025295    0.051341  \n",
       "default     0.009424 -0.010021  0.016822 -0.029927 -0.018329   -0.022419  \n",
       "balance     0.004503  0.021560 -0.014578  0.003330  0.016674    0.052838  \n",
       "housing    -0.027982  0.005075 -0.023599  0.124350  0.037076   -0.139173  \n",
       "loan        0.011370 -0.012412  0.009980 -0.022709 -0.011043   -0.068185  \n",
       "day         1.000000 -0.030206  0.162490 -0.093024 -0.051710   -0.028348  \n",
       "duration   -0.030206  1.000000 -0.084570 -0.001584  0.001203    0.394521  \n",
       "campaign    0.162490 -0.084570  1.000000 -0.088508 -0.032855   -0.073172  \n",
       "pdays      -0.093024 -0.001584 -0.088508  1.000000  0.454288    0.103323  \n",
       "previous   -0.051710  0.001203 -0.032855  0.454288  1.000000    0.093236  \n",
       "subscribed -0.028348  0.394521 -0.073172  0.103323  0.093236    1.000000  "
      ]
     },
     "execution_count": 44,
     "metadata": {},
     "output_type": "execute_result"
    }
   ],
   "source": [
    "df.corr()"
   ]
  },
  {
   "cell_type": "code",
   "execution_count": 45,
   "metadata": {},
   "outputs": [
    {
     "name": "stdout",
     "output_type": "stream",
     "text": [
      "10 most frequent values in the column \"previous\":\n",
      "previous\n",
      "0    36954\n",
      "1     2772\n",
      "2     2106\n",
      "dtype: int64\n",
      "\n",
      "Data in 'previous' column compared to 'subscribed':\n",
      "subscribed  previous\n",
      "0           0           33570\n",
      "            1            2189\n",
      "            2            1650\n",
      "            3             848\n",
      "            4             543\n",
      "                        ...  \n",
      "1           26              1\n",
      "            29              1\n",
      "            30              1\n",
      "            55              1\n",
      "            58              1\n",
      "Length: 66, dtype: int64\n",
      "\n",
      "pdays\n",
      "0    36954\n",
      "1       15\n",
      "2       37\n",
      "dtype: int64\n",
      "subscribed  pdays\n",
      "0           0        33570\n",
      "            1            9\n",
      "            2           35\n",
      "            3            1\n",
      "            4            1\n",
      "                     ...  \n",
      "1           804          1\n",
      "            805          1\n",
      "            828          1\n",
      "            842          1\n",
      "            854          1\n",
      "Length: 914, dtype: int64\n",
      "\n",
      "Rows where 'pdays' is -1 and 'subscribe' is 1: 0\n",
      "Rows where 'previous' is 0 and 'subscribe' is 1: 3384\n"
     ]
    }
   ],
   "source": [
    "print('10 most frequent values in the column \"previous\":')\n",
    "print(df.groupby(['previous']).size()[:3])\n",
    "print()\n",
    "print(\"Data in 'previous' column compared to 'subscribed':\")\n",
    "print(df.groupby(['subscribed','previous']).size())\n",
    "print()\n",
    "print(df.groupby(['pdays']).size()[:3])\n",
    "print(df.groupby(['subscribed','pdays']).size())\n",
    "\n",
    "\n",
    "print(f\"\\nRows where 'pdays' is -1 and 'subscribe' is 1: {df[(df['pdays'] == -1) & (df['subscribed'] == 1)]['subscribed'].count()}\")\n",
    "print(f\"Rows where 'previous' is 0 and 'subscribe' is 1: {df[(df['previous'] == 0) & (df['subscribed'] == 1)]['subscribed'].count()}\")"
   ]
  },
  {
   "cell_type": "code",
   "execution_count": 46,
   "metadata": {},
   "outputs": [
    {
     "data": {
      "text/plain": [
       "(45211, 17)"
      ]
     },
     "execution_count": 46,
     "metadata": {},
     "output_type": "execute_result"
    }
   ],
   "source": [
    "df.shape"
   ]
  },
  {
   "cell_type": "markdown",
   "metadata": {},
   "source": [
    "### Dropping non-related columns\n",
    "- **default:** It has 44369 'no' values. It denotes that 44369 out of 45211 customers do not have a credit in default.\n",
    "- **contact:** This column can't contribute anymore in our prediction as the standard meddium of communication is 'cellular' now.\n",
    "- **month and day:** We can drop these two columns as they aren't showing any significant correlation with our target variable.\n",
    "- **previous:** Most frequent values in the columns 'previous' and 'pdays' are -1, and 0. Both these values have a frequency of 36954. Also the most frequent values are pointing towards the same  fact. We can drop 'previous' as the 'pdays' column has shown a higher correlation with target variable.\n",
    "- **poutcome:** We will drop this column as it has 36959 'unknown' values, also it isn't showing any significant correlation with the target."
   ]
  },
  {
   "cell_type": "code",
   "execution_count": 47,
   "metadata": {},
   "outputs": [],
   "source": [
    "df.drop(['default', 'contact', 'month', 'day', 'previous', 'poutcome'], axis=1, inplace= True)"
   ]
  },
  {
   "cell_type": "code",
   "execution_count": 48,
   "metadata": {},
   "outputs": [
    {
     "data": {
      "text/plain": [
       "(45211, 11)"
      ]
     },
     "execution_count": 48,
     "metadata": {},
     "output_type": "execute_result"
    }
   ],
   "source": [
    "df.shape"
   ]
  },
  {
   "cell_type": "code",
   "execution_count": 49,
   "metadata": {},
   "outputs": [
    {
     "name": "stdout",
     "output_type": "stream",
     "text": [
      "Job Unknown: 288\n",
      "Education Unknown: 1857\n",
      "Job and Education Unknown: 127\n",
      "Job or Education Unknown:2018\n"
     ]
    }
   ],
   "source": [
    "print(f\"Job Unknown: {df[df['job']=='unknown']['job'].count()}\")\n",
    "print(f\"Education Unknown: {df[df['education']== 0]['education'].count()}\")\n",
    "print(f\"Job and Education Unknown: {df[(df['job']=='unknown') & (df['education']== 0)]['education'].count()}\")\n",
    "print(f\"Job or Education Unknown:{df[(df['job']=='unknown') | (df['education']== 0)]['education'].count()}\")"
   ]
  },
  {
   "cell_type": "markdown",
   "metadata": {},
   "source": [
    "### Dropping rows with unknown values\n",
    "- We are dropping the rows with 'unknown' as entry from the education and job column. Column 'education' has 1857, and 'job' has 288 unknown values.\n",
    "- A total of 127 rows have 'unknown' entry in both the education and job column.\n",
    "- Dropping these entries will removes a total of 2018 values from our dataframe."
   ]
  },
  {
   "cell_type": "code",
   "execution_count": 50,
   "metadata": {},
   "outputs": [],
   "source": [
    "df.drop(df[df['job']=='unknown'].index, inplace=True)\n",
    "# in the education column we have asssigned the value 0 to 'unknown'\n",
    "df.drop(df[df['education']==0].index, inplace=True)"
   ]
  },
  {
   "cell_type": "code",
   "execution_count": 51,
   "metadata": {},
   "outputs": [
    {
     "data": {
      "text/plain": [
       "(43193, 11)"
      ]
     },
     "execution_count": 51,
     "metadata": {},
     "output_type": "execute_result"
    }
   ],
   "source": [
    "df.shape"
   ]
  },
  {
   "cell_type": "code",
   "execution_count": 52,
   "metadata": {},
   "outputs": [
    {
     "data": {
      "text/plain": [
       "3"
      ]
     },
     "execution_count": 52,
     "metadata": {},
     "output_type": "execute_result"
    }
   ],
   "source": [
    "# Checking calls with duration 0\n",
    "df[(df['duration']==0)]['duration'].count()"
   ]
  },
  {
   "cell_type": "code",
   "execution_count": 53,
   "metadata": {},
   "outputs": [
    {
     "data": {
      "text/plain": [
       "0"
      ]
     },
     "execution_count": 53,
     "metadata": {},
     "output_type": "execute_result"
    }
   ],
   "source": [
    "# Checking if any customer with cal duration 0 has subscribed for the term deposit\n",
    "df[(df['duration']==0) & (df['subscribed']) == 1]['duration'].count()"
   ]
  },
  {
   "cell_type": "markdown",
   "metadata": {},
   "source": [
    "- As expected, none of the customers with call duration 0 subscribed for the term deposit.  \n",
    "Hence we can drop these entries."
   ]
  },
  {
   "cell_type": "code",
   "execution_count": 54,
   "metadata": {},
   "outputs": [
    {
     "data": {
      "text/plain": [
       "(43190, 11)"
      ]
     },
     "execution_count": 54,
     "metadata": {},
     "output_type": "execute_result"
    }
   ],
   "source": [
    "df.drop(df[df['duration']==0].index, inplace=True)\n",
    "df.shape"
   ]
  },
  {
   "cell_type": "code",
   "execution_count": 55,
   "metadata": {},
   "outputs": [
    {
     "data": {
      "text/plain": [
       "['job', 'marital']"
      ]
     },
     "execution_count": 55,
     "metadata": {},
     "output_type": "execute_result"
    }
   ],
   "source": [
    "# Updating Object data list\n",
    "object_data = [data for data in df.dtypes[df.dtypes == 'object'].index]\n",
    "object_data"
   ]
  },
  {
   "cell_type": "markdown",
   "metadata": {},
   "source": [
    "### **Removing outliers**"
   ]
  },
  {
   "cell_type": "code",
   "execution_count": 56,
   "metadata": {},
   "outputs": [],
   "source": [
    "def remove_outliers(data, column , minimum, maximum):\n",
    "    col_values = data[column].values\n",
    "    data[column] = np.where(np.logical_or(col_values<minimum, col_values>maximum), col_values.mean(), col_values)\n",
    "    return data"
   ]
  },
  {
   "cell_type": "code",
   "execution_count": 57,
   "metadata": {},
   "outputs": [],
   "source": [
    "min_val = df[\"duration\"].min()\n",
    "max_val = 1500\n",
    "df = remove_outliers(data=df, column='duration' , minimum=min_val, maximum=max_val)\n",
    "\n",
    "min_val = df[\"age\"].min()\n",
    "max_val = 80\n",
    "df = remove_outliers(data=df, column='age' , minimum=min_val, maximum=max_val)\n",
    "\n",
    "min_val = df[\"campaign\"].min()\n",
    "max_val = 6\n",
    "\n",
    "df = remove_outliers(data=df, column='campaign' , minimum=min_val, maximum=max_val)"
   ]
  },
  {
   "cell_type": "markdown",
   "metadata": {},
   "source": [
    "### One-Hot Encoding"
   ]
  },
  {
   "cell_type": "code",
   "execution_count": 58,
   "metadata": {
    "scrolled": true
   },
   "outputs": [
    {
     "data": {
      "text/html": [
       "<div>\n",
       "<style scoped>\n",
       "    .dataframe tbody tr th:only-of-type {\n",
       "        vertical-align: middle;\n",
       "    }\n",
       "\n",
       "    .dataframe tbody tr th {\n",
       "        vertical-align: top;\n",
       "    }\n",
       "\n",
       "    .dataframe thead th {\n",
       "        text-align: right;\n",
       "    }\n",
       "</style>\n",
       "<table border=\"1\" class=\"dataframe\">\n",
       "  <thead>\n",
       "    <tr style=\"text-align: right;\">\n",
       "      <th></th>\n",
       "      <th>job_admin.</th>\n",
       "      <th>job_blue-collar</th>\n",
       "      <th>job_entrepreneur</th>\n",
       "      <th>job_housemaid</th>\n",
       "      <th>job_management</th>\n",
       "      <th>job_retired</th>\n",
       "      <th>job_self-employed</th>\n",
       "      <th>job_services</th>\n",
       "      <th>job_student</th>\n",
       "      <th>job_technician</th>\n",
       "      <th>job_unemployed</th>\n",
       "      <th>marital_divorced</th>\n",
       "      <th>marital_married</th>\n",
       "      <th>marital_single</th>\n",
       "    </tr>\n",
       "  </thead>\n",
       "  <tbody>\n",
       "    <tr>\n",
       "      <th>0</th>\n",
       "      <td>0</td>\n",
       "      <td>0</td>\n",
       "      <td>0</td>\n",
       "      <td>0</td>\n",
       "      <td>1</td>\n",
       "      <td>0</td>\n",
       "      <td>0</td>\n",
       "      <td>0</td>\n",
       "      <td>0</td>\n",
       "      <td>0</td>\n",
       "      <td>0</td>\n",
       "      <td>0</td>\n",
       "      <td>1</td>\n",
       "      <td>0</td>\n",
       "    </tr>\n",
       "    <tr>\n",
       "      <th>1</th>\n",
       "      <td>0</td>\n",
       "      <td>0</td>\n",
       "      <td>0</td>\n",
       "      <td>0</td>\n",
       "      <td>0</td>\n",
       "      <td>0</td>\n",
       "      <td>0</td>\n",
       "      <td>0</td>\n",
       "      <td>0</td>\n",
       "      <td>1</td>\n",
       "      <td>0</td>\n",
       "      <td>0</td>\n",
       "      <td>0</td>\n",
       "      <td>1</td>\n",
       "    </tr>\n",
       "    <tr>\n",
       "      <th>2</th>\n",
       "      <td>0</td>\n",
       "      <td>0</td>\n",
       "      <td>1</td>\n",
       "      <td>0</td>\n",
       "      <td>0</td>\n",
       "      <td>0</td>\n",
       "      <td>0</td>\n",
       "      <td>0</td>\n",
       "      <td>0</td>\n",
       "      <td>0</td>\n",
       "      <td>0</td>\n",
       "      <td>0</td>\n",
       "      <td>1</td>\n",
       "      <td>0</td>\n",
       "    </tr>\n",
       "    <tr>\n",
       "      <th>5</th>\n",
       "      <td>0</td>\n",
       "      <td>0</td>\n",
       "      <td>0</td>\n",
       "      <td>0</td>\n",
       "      <td>1</td>\n",
       "      <td>0</td>\n",
       "      <td>0</td>\n",
       "      <td>0</td>\n",
       "      <td>0</td>\n",
       "      <td>0</td>\n",
       "      <td>0</td>\n",
       "      <td>0</td>\n",
       "      <td>1</td>\n",
       "      <td>0</td>\n",
       "    </tr>\n",
       "    <tr>\n",
       "      <th>6</th>\n",
       "      <td>0</td>\n",
       "      <td>0</td>\n",
       "      <td>0</td>\n",
       "      <td>0</td>\n",
       "      <td>1</td>\n",
       "      <td>0</td>\n",
       "      <td>0</td>\n",
       "      <td>0</td>\n",
       "      <td>0</td>\n",
       "      <td>0</td>\n",
       "      <td>0</td>\n",
       "      <td>0</td>\n",
       "      <td>0</td>\n",
       "      <td>1</td>\n",
       "    </tr>\n",
       "  </tbody>\n",
       "</table>\n",
       "</div>"
      ],
      "text/plain": [
       "   job_admin.  job_blue-collar  job_entrepreneur  job_housemaid  \\\n",
       "0           0                0                 0              0   \n",
       "1           0                0                 0              0   \n",
       "2           0                0                 1              0   \n",
       "5           0                0                 0              0   \n",
       "6           0                0                 0              0   \n",
       "\n",
       "   job_management  job_retired  job_self-employed  job_services  job_student  \\\n",
       "0               1            0                  0             0            0   \n",
       "1               0            0                  0             0            0   \n",
       "2               0            0                  0             0            0   \n",
       "5               1            0                  0             0            0   \n",
       "6               1            0                  0             0            0   \n",
       "\n",
       "   job_technician  job_unemployed  marital_divorced  marital_married  \\\n",
       "0               0               0                 0                1   \n",
       "1               1               0                 0                0   \n",
       "2               0               0                 0                1   \n",
       "5               0               0                 0                1   \n",
       "6               0               0                 0                0   \n",
       "\n",
       "   marital_single  \n",
       "0               0  \n",
       "1               1  \n",
       "2               0  \n",
       "5               0  \n",
       "6               1  "
      ]
     },
     "execution_count": 58,
     "metadata": {},
     "output_type": "execute_result"
    }
   ],
   "source": [
    "#with one hot encoding\n",
    "df_ohe = df.copy()\n",
    "obj_data_ohe = pd.get_dummies(df_ohe[object_data],drop_first = False)\n",
    "obj_data_ohe.head()"
   ]
  },
  {
   "cell_type": "code",
   "execution_count": 59,
   "metadata": {},
   "outputs": [
    {
     "data": {
      "text/plain": [
       "Index(['job_admin.', 'job_blue-collar', 'job_entrepreneur', 'job_housemaid',\n",
       "       'job_management', 'job_retired', 'job_self-employed', 'job_services',\n",
       "       'job_student', 'job_technician', 'job_unemployed', 'marital_divorced',\n",
       "       'marital_married', 'marital_single'],\n",
       "      dtype='object')"
      ]
     },
     "execution_count": 59,
     "metadata": {},
     "output_type": "execute_result"
    }
   ],
   "source": [
    "obj_data_ohe.keys()"
   ]
  },
  {
   "cell_type": "code",
   "execution_count": 60,
   "metadata": {},
   "outputs": [
    {
     "data": {
      "text/plain": [
       "(43190, 14)"
      ]
     },
     "execution_count": 60,
     "metadata": {},
     "output_type": "execute_result"
    }
   ],
   "source": [
    "obj_data_ohe.shape"
   ]
  },
  {
   "cell_type": "code",
   "execution_count": 61,
   "metadata": {},
   "outputs": [],
   "source": [
    "df_ohe = pd.concat([df_ohe, obj_data_ohe], axis=1)\n",
    "df_ohe.drop('subscribed', axis=1, inplace=True)\n",
    "df_ohe['subscribed'] = df['subscribed']"
   ]
  },
  {
   "cell_type": "code",
   "execution_count": 62,
   "metadata": {},
   "outputs": [
    {
     "data": {
      "text/plain": [
       "Index(['age', 'job', 'marital', 'education', 'balance', 'housing', 'loan',\n",
       "       'duration', 'campaign', 'pdays', 'job_admin.', 'job_blue-collar',\n",
       "       'job_entrepreneur', 'job_housemaid', 'job_management', 'job_retired',\n",
       "       'job_self-employed', 'job_services', 'job_student', 'job_technician',\n",
       "       'job_unemployed', 'marital_divorced', 'marital_married',\n",
       "       'marital_single', 'subscribed'],\n",
       "      dtype='object')"
      ]
     },
     "execution_count": 62,
     "metadata": {},
     "output_type": "execute_result"
    }
   ],
   "source": [
    "df_ohe.keys()"
   ]
  },
  {
   "cell_type": "code",
   "execution_count": 63,
   "metadata": {},
   "outputs": [],
   "source": [
    "# Dropping object data from dataframe df_ohe, as we are going to use the encoded columns\n",
    "df_ohe.drop(object_data, axis=1, inplace=True)"
   ]
  },
  {
   "cell_type": "code",
   "execution_count": 64,
   "metadata": {},
   "outputs": [
    {
     "data": {
      "text/plain": [
       "Index(['age', 'education', 'balance', 'housing', 'loan', 'duration',\n",
       "       'campaign', 'pdays', 'job_admin.', 'job_blue-collar',\n",
       "       'job_entrepreneur', 'job_housemaid', 'job_management', 'job_retired',\n",
       "       'job_self-employed', 'job_services', 'job_student', 'job_technician',\n",
       "       'job_unemployed', 'marital_divorced', 'marital_married',\n",
       "       'marital_single', 'subscribed'],\n",
       "      dtype='object')"
      ]
     },
     "execution_count": 64,
     "metadata": {},
     "output_type": "execute_result"
    }
   ],
   "source": [
    "df_ohe.keys()"
   ]
  },
  {
   "cell_type": "code",
   "execution_count": 65,
   "metadata": {},
   "outputs": [
    {
     "data": {
      "text/plain": [
       "(43190, 23)"
      ]
     },
     "execution_count": 65,
     "metadata": {},
     "output_type": "execute_result"
    }
   ],
   "source": [
    "df_ohe.shape"
   ]
  },
  {
   "cell_type": "markdown",
   "metadata": {},
   "source": [
    "### Summary of Feature engneering"
   ]
  },
  {
   "cell_type": "code",
   "execution_count": 66,
   "metadata": {},
   "outputs": [
    {
     "name": "stdout",
     "output_type": "stream",
     "text": [
      "Total number of features: 23\n",
      "Numerical Features: 9\n",
      "Encoded Categorical Features: 14\n"
     ]
    }
   ],
   "source": [
    "print('Total number of features:', len(df_ohe.keys()))\n",
    "print('Numerical Features:',len(df_ohe.keys()) - len(obj_data_ohe.keys()))\n",
    "print('Encoded Categorical Features:', len(obj_data_ohe.keys()))"
   ]
  },
  {
   "cell_type": "code",
   "execution_count": 67,
   "metadata": {},
   "outputs": [
    {
     "data": {
      "text/plain": [
       "subscribed           0\n",
       "job_entrepreneur     0\n",
       "education            0\n",
       "balance              0\n",
       "housing              0\n",
       "loan                 0\n",
       "duration             0\n",
       "campaign             0\n",
       "pdays                0\n",
       "job_admin.           0\n",
       "job_blue-collar      0\n",
       "job_housemaid        0\n",
       "marital_single       0\n",
       "job_management       0\n",
       "job_retired          0\n",
       "job_self-employed    0\n",
       "job_services         0\n",
       "job_student          0\n",
       "job_technician       0\n",
       "job_unemployed       0\n",
       "marital_divorced     0\n",
       "marital_married      0\n",
       "age                  0\n",
       "dtype: int64"
      ]
     },
     "execution_count": 67,
     "metadata": {},
     "output_type": "execute_result"
    }
   ],
   "source": [
    "# Checking for any null values\n",
    "df_ohe.isnull().sum().sort_values(ascending = False)"
   ]
  },
  {
   "cell_type": "code",
   "execution_count": 68,
   "metadata": {},
   "outputs": [
    {
     "name": "stdout",
     "output_type": "stream",
     "text": [
      "Columns of our interest:\n",
      "\t\t\tage\n",
      "\t\t\teducation\n",
      "\t\t\tbalance\n",
      "\t\t\thousing\n",
      "\t\t\tloan\n",
      "\t\t\tduration\n",
      "\t\t\tcampaign\n",
      "\t\t\tpdays\n",
      "\t\t\tjob_admin.\n",
      "\t\t\tjob_blue-collar\n",
      "\t\t\tjob_entrepreneur\n",
      "\t\t\tjob_housemaid\n",
      "\t\t\tjob_management\n",
      "\t\t\tjob_retired\n",
      "\t\t\tjob_self-employed\n",
      "\t\t\tjob_services\n",
      "\t\t\tjob_student\n",
      "\t\t\tjob_technician\n",
      "\t\t\tjob_unemployed\n",
      "\t\t\tmarital_divorced\n",
      "\t\t\tmarital_married\n",
      "\t\t\tmarital_single\n",
      "\t\t\tsubscribed\n"
     ]
    }
   ],
   "source": [
    "# Copying data to a new dataframe, which includes the columns of interest.\n",
    "df_model = df_ohe.copy()\n",
    "\n",
    "print(\"Columns of our interest:\")\n",
    "\n",
    "for col in df_model:\n",
    "    print(f'\\t\\t\\t{col}')"
   ]
  },
  {
   "cell_type": "code",
   "execution_count": 69,
   "metadata": {
    "scrolled": true
   },
   "outputs": [
    {
     "data": {
      "text/plain": [
       "<AxesSubplot:xlabel='subscribed', ylabel='count'>"
      ]
     },
     "execution_count": 69,
     "metadata": {},
     "output_type": "execute_result"
    },
    {
     "data": {
      "image/png": "[encoded data removed]",
      "text/plain": [
       "<Figure size 432x288 with 1 Axes>"
      ]
     },
     "metadata": {
      "needs_background": "light"
     },
     "output_type": "display_data"
    }
   ],
   "source": [
    "sns.countplot(x=df_model['subscribed'], data=df_ohe)"
   ]
  },
  {
   "cell_type": "code",
   "execution_count": 70,
   "metadata": {},
   "outputs": [
    {
     "data": {
      "text/plain": [
       "(43190, 23)"
      ]
     },
     "execution_count": 70,
     "metadata": {},
     "output_type": "execute_result"
    }
   ],
   "source": [
    "df_model.shape"
   ]
  },
  {
   "cell_type": "code",
   "execution_count": 71,
   "metadata": {},
   "outputs": [],
   "source": [
    "df_model_yes = df_model[df_model['subscribed']==1]\n",
    "for _ in range(6):\n",
    "    df_model = pd.concat([df_model,df_model_yes])"
   ]
  },
  {
   "cell_type": "code",
   "execution_count": 72,
   "metadata": {},
   "outputs": [
    {
     "data": {
      "text/plain": [
       "<AxesSubplot:xlabel='subscribed', ylabel='count'>"
      ]
     },
     "execution_count": 72,
     "metadata": {},
     "output_type": "execute_result"
    },
    {
     "data": {
      "image/png": "[encoded data removed]",
      "text/plain": [
       "<Figure size 432x288 with 1 Axes>"
      ]
     },
     "metadata": {
      "needs_background": "light"
     },
     "output_type": "display_data"
    }
   ],
   "source": [
    "sns.countplot(x=df_model['subscribed'], data=df_ohe)"
   ]
  },
  {
   "cell_type": "code",
   "execution_count": 73,
   "metadata": {},
   "outputs": [
    {
     "data": {
      "text/plain": [
       "(73316, 23)"
      ]
     },
     "execution_count": 73,
     "metadata": {},
     "output_type": "execute_result"
    }
   ],
   "source": [
    "df_model.shape"
   ]
  },
  {
   "cell_type": "code",
   "execution_count": 74,
   "metadata": {},
   "outputs": [
    {
     "data": {
      "text/html": [
       "<div>\n",
       "<style scoped>\n",
       "    .dataframe tbody tr th:only-of-type {\n",
       "        vertical-align: middle;\n",
       "    }\n",
       "\n",
       "    .dataframe tbody tr th {\n",
       "        vertical-align: top;\n",
       "    }\n",
       "\n",
       "    .dataframe thead th {\n",
       "        text-align: right;\n",
       "    }\n",
       "</style>\n",
       "<table border=\"1\" class=\"dataframe\">\n",
       "  <thead>\n",
       "    <tr style=\"text-align: right;\">\n",
       "      <th></th>\n",
       "      <th>age</th>\n",
       "      <th>education</th>\n",
       "      <th>balance</th>\n",
       "      <th>housing</th>\n",
       "      <th>loan</th>\n",
       "      <th>duration</th>\n",
       "      <th>campaign</th>\n",
       "      <th>pdays</th>\n",
       "      <th>job_admin.</th>\n",
       "      <th>job_blue-collar</th>\n",
       "      <th>job_entrepreneur</th>\n",
       "      <th>job_housemaid</th>\n",
       "    </tr>\n",
       "  </thead>\n",
       "  <tbody>\n",
       "    <tr>\n",
       "      <th>0</th>\n",
       "      <td>58.0</td>\n",
       "      <td>3</td>\n",
       "      <td>2143</td>\n",
       "      <td>1</td>\n",
       "      <td>0</td>\n",
       "      <td>261.0</td>\n",
       "      <td>1.0</td>\n",
       "      <td>0</td>\n",
       "      <td>0</td>\n",
       "      <td>0</td>\n",
       "      <td>0</td>\n",
       "      <td>0</td>\n",
       "    </tr>\n",
       "    <tr>\n",
       "      <th>1</th>\n",
       "      <td>44.0</td>\n",
       "      <td>2</td>\n",
       "      <td>29</td>\n",
       "      <td>1</td>\n",
       "      <td>0</td>\n",
       "      <td>151.0</td>\n",
       "      <td>1.0</td>\n",
       "      <td>0</td>\n",
       "      <td>0</td>\n",
       "      <td>0</td>\n",
       "      <td>0</td>\n",
       "      <td>0</td>\n",
       "    </tr>\n",
       "    <tr>\n",
       "      <th>2</th>\n",
       "      <td>33.0</td>\n",
       "      <td>2</td>\n",
       "      <td>2</td>\n",
       "      <td>1</td>\n",
       "      <td>1</td>\n",
       "      <td>76.0</td>\n",
       "      <td>1.0</td>\n",
       "      <td>0</td>\n",
       "      <td>0</td>\n",
       "      <td>0</td>\n",
       "      <td>1</td>\n",
       "      <td>0</td>\n",
       "    </tr>\n",
       "    <tr>\n",
       "      <th>5</th>\n",
       "      <td>35.0</td>\n",
       "      <td>3</td>\n",
       "      <td>231</td>\n",
       "      <td>1</td>\n",
       "      <td>0</td>\n",
       "      <td>139.0</td>\n",
       "      <td>1.0</td>\n",
       "      <td>0</td>\n",
       "      <td>0</td>\n",
       "      <td>0</td>\n",
       "      <td>0</td>\n",
       "      <td>0</td>\n",
       "    </tr>\n",
       "    <tr>\n",
       "      <th>6</th>\n",
       "      <td>28.0</td>\n",
       "      <td>3</td>\n",
       "      <td>447</td>\n",
       "      <td>1</td>\n",
       "      <td>1</td>\n",
       "      <td>217.0</td>\n",
       "      <td>1.0</td>\n",
       "      <td>0</td>\n",
       "      <td>0</td>\n",
       "      <td>0</td>\n",
       "      <td>0</td>\n",
       "      <td>0</td>\n",
       "    </tr>\n",
       "  </tbody>\n",
       "</table>\n",
       "</div>"
      ],
      "text/plain": [
       "    age  education  balance  housing  loan  duration  campaign  pdays  \\\n",
       "0  58.0          3     2143        1     0     261.0       1.0      0   \n",
       "1  44.0          2       29        1     0     151.0       1.0      0   \n",
       "2  33.0          2        2        1     1      76.0       1.0      0   \n",
       "5  35.0          3      231        1     0     139.0       1.0      0   \n",
       "6  28.0          3      447        1     1     217.0       1.0      0   \n",
       "\n",
       "   job_admin.  job_blue-collar  job_entrepreneur  job_housemaid  \n",
       "0           0                0                 0              0  \n",
       "1           0                0                 0              0  \n",
       "2           0                0                 1              0  \n",
       "5           0                0                 0              0  \n",
       "6           0                0                 0              0  "
      ]
     },
     "execution_count": 74,
     "metadata": {},
     "output_type": "execute_result"
    }
   ],
   "source": [
    "df_model[list(df_model.columns)[:12]].head()"
   ]
  },
  {
   "cell_type": "code",
   "execution_count": 75,
   "metadata": {
    "scrolled": true
   },
   "outputs": [
    {
     "data": {
      "text/html": [
       "<div>\n",
       "<style scoped>\n",
       "    .dataframe tbody tr th:only-of-type {\n",
       "        vertical-align: middle;\n",
       "    }\n",
       "\n",
       "    .dataframe tbody tr th {\n",
       "        vertical-align: top;\n",
       "    }\n",
       "\n",
       "    .dataframe thead th {\n",
       "        text-align: right;\n",
       "    }\n",
       "</style>\n",
       "<table border=\"1\" class=\"dataframe\">\n",
       "  <thead>\n",
       "    <tr style=\"text-align: right;\">\n",
       "      <th></th>\n",
       "      <th>job_management</th>\n",
       "      <th>job_retired</th>\n",
       "      <th>job_self-employed</th>\n",
       "      <th>job_services</th>\n",
       "      <th>job_student</th>\n",
       "      <th>job_technician</th>\n",
       "      <th>job_unemployed</th>\n",
       "      <th>marital_divorced</th>\n",
       "      <th>marital_married</th>\n",
       "      <th>marital_single</th>\n",
       "      <th>subscribed</th>\n",
       "    </tr>\n",
       "  </thead>\n",
       "  <tbody>\n",
       "    <tr>\n",
       "      <th>0</th>\n",
       "      <td>1</td>\n",
       "      <td>0</td>\n",
       "      <td>0</td>\n",
       "      <td>0</td>\n",
       "      <td>0</td>\n",
       "      <td>0</td>\n",
       "      <td>0</td>\n",
       "      <td>0</td>\n",
       "      <td>1</td>\n",
       "      <td>0</td>\n",
       "      <td>0</td>\n",
       "    </tr>\n",
       "    <tr>\n",
       "      <th>1</th>\n",
       "      <td>0</td>\n",
       "      <td>0</td>\n",
       "      <td>0</td>\n",
       "      <td>0</td>\n",
       "      <td>0</td>\n",
       "      <td>1</td>\n",
       "      <td>0</td>\n",
       "      <td>0</td>\n",
       "      <td>0</td>\n",
       "      <td>1</td>\n",
       "      <td>0</td>\n",
       "    </tr>\n",
       "    <tr>\n",
       "      <th>2</th>\n",
       "      <td>0</td>\n",
       "      <td>0</td>\n",
       "      <td>0</td>\n",
       "      <td>0</td>\n",
       "      <td>0</td>\n",
       "      <td>0</td>\n",
       "      <td>0</td>\n",
       "      <td>0</td>\n",
       "      <td>1</td>\n",
       "      <td>0</td>\n",
       "      <td>0</td>\n",
       "    </tr>\n",
       "    <tr>\n",
       "      <th>5</th>\n",
       "      <td>1</td>\n",
       "      <td>0</td>\n",
       "      <td>0</td>\n",
       "      <td>0</td>\n",
       "      <td>0</td>\n",
       "      <td>0</td>\n",
       "      <td>0</td>\n",
       "      <td>0</td>\n",
       "      <td>1</td>\n",
       "      <td>0</td>\n",
       "      <td>0</td>\n",
       "    </tr>\n",
       "    <tr>\n",
       "      <th>6</th>\n",
       "      <td>1</td>\n",
       "      <td>0</td>\n",
       "      <td>0</td>\n",
       "      <td>0</td>\n",
       "      <td>0</td>\n",
       "      <td>0</td>\n",
       "      <td>0</td>\n",
       "      <td>0</td>\n",
       "      <td>0</td>\n",
       "      <td>1</td>\n",
       "      <td>0</td>\n",
       "    </tr>\n",
       "  </tbody>\n",
       "</table>\n",
       "</div>"
      ],
      "text/plain": [
       "   job_management  job_retired  job_self-employed  job_services  job_student  \\\n",
       "0               1            0                  0             0            0   \n",
       "1               0            0                  0             0            0   \n",
       "2               0            0                  0             0            0   \n",
       "5               1            0                  0             0            0   \n",
       "6               1            0                  0             0            0   \n",
       "\n",
       "   job_technician  job_unemployed  marital_divorced  marital_married  \\\n",
       "0               0               0                 0                1   \n",
       "1               1               0                 0                0   \n",
       "2               0               0                 0                1   \n",
       "5               0               0                 0                1   \n",
       "6               0               0                 0                0   \n",
       "\n",
       "   marital_single  subscribed  \n",
       "0               0           0  \n",
       "1               1           0  \n",
       "2               0           0  \n",
       "5               0           0  \n",
       "6               1           0  "
      ]
     },
     "execution_count": 75,
     "metadata": {},
     "output_type": "execute_result"
    }
   ],
   "source": [
    "df_model[list(df_model.columns)[12:]].head()"
   ]
  },
  {
   "cell_type": "code",
   "execution_count": 103,
   "metadata": {},
   "outputs": [],
   "source": [
    "df_model.to_csv('model.csv', index=False)"
   ]
  },
  {
   "cell_type": "markdown",
   "metadata": {},
   "source": [
    "### Testing Models"
   ]
  },
  {
   "cell_type": "code",
   "execution_count": 76,
   "metadata": {},
   "outputs": [],
   "source": [
    "from time import time\n",
    "\n",
    "aucs = []\n",
    "names = []\n",
    "rocs = []\n",
    "\n",
    "def get_report(name, classifier, x_train, y_train, y_test, y_pred):\n",
    "    names.append(name)\n",
    "    s_time = time()\n",
    "    accuracies = cross_val_score(estimator = classifier, X = x_train, y = y_train, cv = 10)\n",
    "    \n",
    "    report = ''\n",
    "    \n",
    "    report += f'Report for {classifier}\\n'\n",
    "    \n",
    "    report += f'{classifier} Confusion  matrix:\\n'\n",
    "    report += f'{confusion_matrix(y_test, y_pred)}\\n\\n'\n",
    "    report += f'{classifier} accuracy mean: {accuracies.mean()}\\n'\n",
    "    report += f'{classifier} accuracy std dev: {accuracies.std()}\\n'\n",
    "    report += f'{classifier} preciosn score: {precision_score(y_test, y_pred)}\\n'\n",
    "    report += f'{classifier} recall score: {recall_score(y_test, y_pred)}\\n'\n",
    "    report += f'{classifier} f1 score: {f1_score(y_test, y_pred)}\\n'\n",
    "    auc = roc_auc_score(y_test, y_pred)\n",
    "    report += f'{classifier} AUC: {auc}\\n'\n",
    "    \n",
    "    rocs.append(roc_curve(y_test, y_pred))\n",
    "    aucs.append(auc)\n",
    "    \n",
    "    report += f'\\nClassification report: \\n{classification_report(y_test, y_pred)}'\n",
    "    report += f'\\nTime taken: {time() - s_time}\\n'\n",
    "    report += '*'*50\n",
    "    \n",
    "    return report"
   ]
  },
  {
   "cell_type": "code",
   "execution_count": 77,
   "metadata": {},
   "outputs": [],
   "source": [
    "from sklearn.metrics import precision_score, recall_score\n",
    "from sklearn.linear_model import LogisticRegression\n",
    "from sklearn.model_selection import train_test_split\n",
    "from sklearn.metrics import accuracy_score\n",
    "from sklearn.metrics import roc_curve\n",
    "from sklearn.ensemble import GradientBoostingClassifier\n",
    "from sklearn.metrics import f1_score\n",
    "from sklearn.datasets import make_classification\n",
    "from sklearn.model_selection import cross_val_score\n",
    "from sklearn.metrics import confusion_matrix"
   ]
  },
  {
   "cell_type": "code",
   "execution_count": 78,
   "metadata": {},
   "outputs": [],
   "source": [
    "x = df_model.drop('subscribed',axis = 1).values\n",
    "y = df_model['subscribed'].values\n",
    "x_train, x_test, y_train, y_test = train_test_split(x, y, test_size=0.25, random_state=42)\n",
    "scaler = StandardScaler()\n",
    "x_train = scaler.fit_transform(x_train)\n",
    "x_test = scaler.transform(x_test)"
   ]
  },
  {
   "cell_type": "code",
   "execution_count": 79,
   "metadata": {
    "scrolled": false
   },
   "outputs": [
    {
     "name": "stdout",
     "output_type": "stream",
     "text": [
      "Report for LogisticRegression()\n",
      "LogisticRegression() Confusion  matrix:\n",
      "[[7856 1719]\n",
      " [2211 6543]]\n",
      "\n",
      "LogisticRegression() accuracy mean: 0.7826578178075436\n",
      "LogisticRegression() accuracy std dev: 0.006544210822735868\n",
      "LogisticRegression() preciosn score: 0.7919389978213508\n",
      "LogisticRegression() recall score: 0.747429746401645\n",
      "LogisticRegression() f1 score: 0.7690409026798307\n",
      "LogisticRegression() AUC: 0.7839498601459921\n",
      "\n",
      "Classification report: \n",
      "              precision    recall  f1-score   support\n",
      "\n",
      "           0       0.78      0.82      0.80      9575\n",
      "           1       0.79      0.75      0.77      8754\n",
      "\n",
      "    accuracy                           0.79     18329\n",
      "   macro avg       0.79      0.78      0.78     18329\n",
      "weighted avg       0.79      0.79      0.79     18329\n",
      "\n",
      "Time taken: 0.7005250453948975\n",
      "**************************************************\n",
      "Report for KNeighborsClassifier()\n",
      "KNeighborsClassifier() Confusion  matrix:\n",
      "[[7572 2003]\n",
      " [ 139 8615]]\n",
      "\n",
      "KNeighborsClassifier() accuracy mean: 0.87122434906813\n",
      "KNeighborsClassifier() accuracy std dev: 0.005797543340997716\n",
      "KNeighborsClassifier() preciosn score: 0.8113580711998493\n",
      "KNeighborsClassifier() recall score: 0.9841215444368289\n",
      "KNeighborsClassifier() f1 score: 0.8894280404707825\n",
      "KNeighborsClassifier() AUC: 0.887465471957318\n",
      "\n",
      "Classification report: \n",
      "              precision    recall  f1-score   support\n",
      "\n",
      "           0       0.98      0.79      0.88      9575\n",
      "           1       0.81      0.98      0.89      8754\n",
      "\n",
      "    accuracy                           0.88     18329\n",
      "   macro avg       0.90      0.89      0.88     18329\n",
      "weighted avg       0.90      0.88      0.88     18329\n",
      "\n",
      "Time taken: 95.7615852355957\n",
      "**************************************************\n",
      "Report for GaussianNB()\n",
      "GaussianNB() Confusion  matrix:\n",
      "[[7833 1742]\n",
      " [3507 5247]]\n",
      "\n",
      "GaussianNB() accuracy mean: 0.711895846534748\n",
      "GaussianNB() accuracy std dev: 0.005660697384056786\n",
      "GaussianNB() preciosn score: 0.7507511804263843\n",
      "GaussianNB() recall score: 0.5993831391363947\n",
      "GaussianNB() f1 score: 0.6665819729403545\n",
      "GaussianNB() AUC: 0.7087255121269441\n",
      "\n",
      "Classification report: \n",
      "              precision    recall  f1-score   support\n",
      "\n",
      "           0       0.69      0.82      0.75      9575\n",
      "           1       0.75      0.60      0.67      8754\n",
      "\n",
      "    accuracy                           0.71     18329\n",
      "   macro avg       0.72      0.71      0.71     18329\n",
      "weighted avg       0.72      0.71      0.71     18329\n",
      "\n",
      "Time taken: 0.4184432029724121\n",
      "**************************************************\n",
      "Report for DecisionTreeClassifier(criterion='entropy')\n",
      "DecisionTreeClassifier(criterion='entropy') Confusion  matrix:\n",
      "[[8606  969]\n",
      " [   0 8754]]\n",
      "\n",
      "DecisionTreeClassifier(criterion='entropy') accuracy mean: 0.9436776063851287\n",
      "DecisionTreeClassifier(criterion='entropy') accuracy std dev: 0.0019919220347449657\n",
      "DecisionTreeClassifier(criterion='entropy') preciosn score: 0.900339401419315\n",
      "DecisionTreeClassifier(criterion='entropy') recall score: 1.0\n",
      "DecisionTreeClassifier(criterion='entropy') f1 score: 0.9475564214969963\n",
      "DecisionTreeClassifier(criterion='entropy') AUC: 0.9493994778067886\n",
      "\n",
      "Classification report: \n",
      "              precision    recall  f1-score   support\n",
      "\n",
      "           0       1.00      0.90      0.95      9575\n",
      "           1       0.90      1.00      0.95      8754\n",
      "\n",
      "    accuracy                           0.95     18329\n",
      "   macro avg       0.95      0.95      0.95     18329\n",
      "weighted avg       0.95      0.95      0.95     18329\n",
      "\n",
      "Time taken: 3.1082570552825928\n",
      "**************************************************\n",
      "Report for RandomForestClassifier(criterion='entropy', n_estimators=10)\n",
      "RandomForestClassifier(criterion='entropy', n_estimators=10) Confusion  matrix:\n",
      "[[8938  637]\n",
      " [   0 8754]]\n",
      "\n",
      "RandomForestClassifier(criterion='entropy', n_estimators=10) accuracy mean: 0.9592450256010701\n",
      "RandomForestClassifier(criterion='entropy', n_estimators=10) accuracy std dev: 0.002876703696339879\n",
      "RandomForestClassifier(criterion='entropy', n_estimators=10) preciosn score: 0.9321690980726227\n",
      "RandomForestClassifier(criterion='entropy', n_estimators=10) recall score: 1.0\n",
      "RandomForestClassifier(criterion='entropy', n_estimators=10) f1 score: 0.9648939101680903\n",
      "RandomForestClassifier(criterion='entropy', n_estimators=10) AUC: 0.9667362924281984\n",
      "\n",
      "Classification report: \n",
      "              precision    recall  f1-score   support\n",
      "\n",
      "           0       1.00      0.93      0.97      9575\n",
      "           1       0.93      1.00      0.96      8754\n",
      "\n",
      "    accuracy                           0.97     18329\n",
      "   macro avg       0.97      0.97      0.97     18329\n",
      "weighted avg       0.97      0.97      0.97     18329\n",
      "\n",
      "Time taken: 5.8188347816467285\n",
      "**************************************************\n",
      "Report for GradientBoostingClassifier(learning_rate=1.0)\n",
      "GradientBoostingClassifier(learning_rate=1.0) Confusion  matrix:\n",
      "[[8006 1569]\n",
      " [1274 7480]]\n",
      "\n",
      "GradientBoostingClassifier(learning_rate=1.0) accuracy mean: 0.8407626050068562\n",
      "GradientBoostingClassifier(learning_rate=1.0) accuracy std dev: 0.005032562398971021\n",
      "GradientBoostingClassifier(learning_rate=1.0) preciosn score: 0.8266106752127307\n",
      "GradientBoostingClassifier(learning_rate=1.0) recall score: 0.8544665295864747\n",
      "GradientBoostingClassifier(learning_rate=1.0) f1 score: 0.8403078132898949\n",
      "GradientBoostingClassifier(learning_rate=1.0) AUC: 0.8453011499107308\n",
      "\n",
      "Classification report: \n",
      "              precision    recall  f1-score   support\n",
      "\n",
      "           0       0.86      0.84      0.85      9575\n",
      "           1       0.83      0.85      0.84      8754\n",
      "\n",
      "    accuracy                           0.84     18329\n",
      "   macro avg       0.84      0.85      0.84     18329\n",
      "weighted avg       0.85      0.84      0.84     18329\n",
      "\n",
      "Time taken: 92.85883331298828\n",
      "**************************************************\n",
      "Report for AdaBoostClassifier()\n",
      "AdaBoostClassifier() Confusion  matrix:\n",
      "[[7880 1695]\n",
      " [1828 6926]]\n",
      "\n",
      "AdaBoostClassifier() accuracy mean: 0.8056813861655854\n",
      "AdaBoostClassifier() accuracy std dev: 0.00490052030324733\n",
      "AdaBoostClassifier() preciosn score: 0.8033870780651896\n",
      "AdaBoostClassifier() recall score: 0.7911811743203108\n",
      "AdaBoostClassifier() f1 score: 0.7972374100719425\n",
      "AdaBoostClassifier() AUC: 0.8070788378128969\n",
      "\n",
      "Classification report: \n",
      "              precision    recall  f1-score   support\n",
      "\n",
      "           0       0.81      0.82      0.82      9575\n",
      "           1       0.80      0.79      0.80      8754\n",
      "\n",
      "    accuracy                           0.81     18329\n",
      "   macro avg       0.81      0.81      0.81     18329\n",
      "weighted avg       0.81      0.81      0.81     18329\n",
      "\n",
      "Time taken: 25.57109236717224\n",
      "**************************************************\n"
     ]
    }
   ],
   "source": [
    "models = {'LR': LogisticRegression(), 'KNN': KNeighborsClassifier(n_neighbors = 5, metric = 'minkowski', p =2),\n",
    "         'GaussNB': GaussianNB(), 'DTree': DecisionTreeClassifier(criterion = 'entropy'),\n",
    "         'RFC': RandomForestClassifier(n_estimators = 10, criterion = 'entropy'), \n",
    "        'GBC': GradientBoostingClassifier(n_estimators=100, learning_rate=1.0, max_depth=3),\n",
    "         'ABC': AdaBoostClassifier()}\n",
    "\n",
    "log = ''\n",
    "\n",
    "for name, classifier in models.items():\n",
    "    classifier.fit(x_train, y_train)\n",
    "    y_pred = classifier.predict(x_test)\n",
    "    report = get_report(name, classifier, x_train, y_train, y_test, y_pred)\n",
    "    print(report)\n",
    "    log += report\n",
    "    log += '\\n'"
   ]
  },
  {
   "cell_type": "code",
   "execution_count": 80,
   "metadata": {},
   "outputs": [],
   "source": [
    "with open('logs\\log_report.log', 'w') as writer:\n",
    "        writer.write(log)"
   ]
  },
  {
   "cell_type": "code",
   "execution_count": 81,
   "metadata": {},
   "outputs": [],
   "source": [
    "df_result = pd.DataFrame({'Classifier': names, 'Results': aucs})"
   ]
  },
  {
   "cell_type": "code",
   "execution_count": 83,
   "metadata": {
    "scrolled": true
   },
   "outputs": [
    {
     "data": {
      "text/html": [
       "<div>\n",
       "<style scoped>\n",
       "    .dataframe tbody tr th:only-of-type {\n",
       "        vertical-align: middle;\n",
       "    }\n",
       "\n",
       "    .dataframe tbody tr th {\n",
       "        vertical-align: top;\n",
       "    }\n",
       "\n",
       "    .dataframe thead th {\n",
       "        text-align: right;\n",
       "    }\n",
       "</style>\n",
       "<table border=\"1\" class=\"dataframe\">\n",
       "  <thead>\n",
       "    <tr style=\"text-align: right;\">\n",
       "      <th></th>\n",
       "      <th>Classifier</th>\n",
       "      <th>Results</th>\n",
       "    </tr>\n",
       "  </thead>\n",
       "  <tbody>\n",
       "    <tr>\n",
       "      <th>0</th>\n",
       "      <td>LR</td>\n",
       "      <td>0.783950</td>\n",
       "    </tr>\n",
       "    <tr>\n",
       "      <th>1</th>\n",
       "      <td>KNN</td>\n",
       "      <td>0.887465</td>\n",
       "    </tr>\n",
       "    <tr>\n",
       "      <th>2</th>\n",
       "      <td>GaussNB</td>\n",
       "      <td>0.708726</td>\n",
       "    </tr>\n",
       "    <tr>\n",
       "      <th>3</th>\n",
       "      <td>DTree</td>\n",
       "      <td>0.949399</td>\n",
       "    </tr>\n",
       "    <tr>\n",
       "      <th>4</th>\n",
       "      <td>RFC</td>\n",
       "      <td>0.966736</td>\n",
       "    </tr>\n",
       "    <tr>\n",
       "      <th>5</th>\n",
       "      <td>GBC</td>\n",
       "      <td>0.845301</td>\n",
       "    </tr>\n",
       "    <tr>\n",
       "      <th>6</th>\n",
       "      <td>ABC</td>\n",
       "      <td>0.807079</td>\n",
       "    </tr>\n",
       "  </tbody>\n",
       "</table>\n",
       "</div>"
      ],
      "text/plain": [
       "  Classifier   Results\n",
       "0         LR  0.783950\n",
       "1        KNN  0.887465\n",
       "2    GaussNB  0.708726\n",
       "3      DTree  0.949399\n",
       "4        RFC  0.966736\n",
       "5        GBC  0.845301\n",
       "6        ABC  0.807079"
      ]
     },
     "execution_count": 83,
     "metadata": {},
     "output_type": "execute_result"
    }
   ],
   "source": [
    "df_result"
   ]
  },
  {
   "cell_type": "code",
   "execution_count": 85,
   "metadata": {},
   "outputs": [
    {
     "data": {
      "image/png": "[encoded data removed]",
      "text/plain": [
       "<Figure size 720x360 with 1 Axes>"
      ]
     },
     "metadata": {
      "needs_background": "light"
     },
     "output_type": "display_data"
    }
   ],
   "source": [
    "plt.subplots(figsize=(10,5)) \n",
    "\n",
    "\n",
    "ax = sns.barplot(x=df_result[\"Classifier\"], y=df_result[\"Results\"], data=df_result)\n",
    "\n",
    "ax.set_xlabel('Classifier',fontsize = 20)\n",
    "ax.set_ylabel('AUC', fontsize = 20)\n",
    "plt.show()"
   ]
  },
  {
   "cell_type": "markdown",
   "metadata": {},
   "source": [
    "## Finalizing the Model\n",
    "- From the output above We have observed that **Random Forest Classifier** has performed consistently well for all the previous scenarios.\n",
    "- **Random Forest Classifier** is giving us an *accuracy mean, and an AUC of 0.96.*"
   ]
  },
  {
   "cell_type": "code",
   "execution_count": 100,
   "metadata": {
    "scrolled": true
   },
   "outputs": [
    {
     "data": {
      "image/png": "[encoded data removed]",
      "text/plain": [
       "<Figure size 432x288 with 1 Axes>"
      ]
     },
     "metadata": {
      "needs_background": "light"
     },
     "output_type": "display_data"
    }
   ],
   "source": [
    "from sklearn.metrics import roc_curve \n",
    "\n",
    "false_pr_test, true_pr_test, thresholds_test = rocs[4]\n",
    "\n",
    "auc_test = aucs[4]\n",
    "\n",
    "plt.plot(false_pr_test, true_pr_test, 'g-',label ='AUC:%.3f'%auc_test)\n",
    "plt.plot([0,1],[0,1],'k--')\n",
    "plt.xlabel('False Positive Rate')\n",
    "plt.ylabel('True Positive Rate')\n",
    "\n",
    "plt.legend()\n",
    "plt.show()"
   ]
  },
  {
   "cell_type": "code",
   "execution_count": null,
   "metadata": {},
   "outputs": [],
   "source": []
  }
 ],
 "metadata": {
  "kernelspec": {
   "display_name": "Python 3",
   "language": "python",
   "name": "python3"
  },
  "language_info": {
   "codemirror_mode": {
    "name": "ipython",
    "version": 3
   },
   "file_extension": ".py",
   "mimetype": "text/x-python",
   "name": "python",
   "nbconvert_exporter": "python",
   "pygments_lexer": "ipython3",
   "version": "3.8.5"
  }
 },
 "nbformat": 4,
 "nbformat_minor": 4
}
